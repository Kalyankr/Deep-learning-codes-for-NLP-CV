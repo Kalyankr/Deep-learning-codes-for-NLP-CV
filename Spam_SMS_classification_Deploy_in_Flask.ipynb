{
  "nbformat": 4,
  "nbformat_minor": 0,
  "metadata": {
    "colab": {
      "name": "Spam_SMS_classification_Deploy_in_Flask.ipynb",
      "version": "0.3.2",
      "provenance": [],
      "collapsed_sections": []
    },
    "kernelspec": {
      "name": "python3",
      "display_name": "Python 3"
    }
  },
  "cells": [
    {
      "cell_type": "markdown",
      "metadata": {
        "id": "UpUNHo55SirW",
        "colab_type": "text"
      },
      "source": [
        "Considering a system using machine learning to detect spam SMS text messages. Our ML systems workflow is like this: Train offline -> Make model available as a service -> Predict online.\n",
        "    A classifier is trained offline with spam and non-spam messages.\n",
        "    The trained model is deployed as a service to serve users."
      ]
    },
    {
      "cell_type": "markdown",
      "metadata": {
        "id": "kxpsWtLeSs6P",
        "colab_type": "text"
      },
      "source": [
        "When we develop a machine learning model, we need to think about how to deploy it, that is, how to make this model available to other users."
      ]
    },
    {
      "cell_type": "markdown",
      "metadata": {
        "id": "8wgjLHzES2lP",
        "colab_type": "text"
      },
      "source": [
        "we will focus on both: building a machine learning model for spam SMS message classification, then create an API for the model, using Flask, the Python micro framework for building web applications.This API allows us to utilize the predictive capabilities through HTTP requests. Let’s get started!"
      ]
    },
    {
      "cell_type": "markdown",
      "metadata": {
        "id": "4Mwaih3TS6Ii",
        "colab_type": "text"
      },
      "source": [
        "The data is a collection of SMS messages tagged as spam or ham that can be found [here](https://www.kaggle.com/uciml/sms-spam-collection-dataset). First, we will use this dataset to build a prediction model that will accurately classify which texts are spam."
      ]
    },
    {
      "cell_type": "markdown",
      "metadata": {
        "id": "GChWnV3STJSE",
        "colab_type": "text"
      },
      "source": [
        "Naive Bayes classifiers are a popular statistical technique of e-mail filtering. They typically use bag of words features to identify spam e-mail. Therefore, We’ll build a simple message classifier using Naive Bayes theorem."
      ]
    },
    {
      "cell_type": "code",
      "metadata": {
        "id": "TJKfgHEMSHnl",
        "colab_type": "code",
        "colab": {}
      },
      "source": [
        "import pandas as pd\n",
        "import numpy as np\n",
        "from sklearn.feature_extraction.text import CountVectorizer\n",
        "from sklearn.model_selection import train_test_split\n",
        "from sklearn.naive_bayes import MultinomialNB\n",
        "from sklearn.metrics import classification_report"
      ],
      "execution_count": 0,
      "outputs": []
    },
    {
      "cell_type": "code",
      "metadata": {
        "id": "Ovd7llcwUAIf",
        "colab_type": "code",
        "colab": {}
      },
      "source": [
        "data=pd.read_csv(\"./spam.csv\", encoding=\"latin-1\")"
      ],
      "execution_count": 0,
      "outputs": []
    },
    {
      "cell_type": "code",
      "metadata": {
        "id": "VfynS8qSUI3p",
        "colab_type": "code",
        "outputId": "53953f22-17d8-4d56-a24d-3e5f54a9c7c7",
        "colab": {
          "base_uri": "https://localhost:8080/",
          "height": 206
        }
      },
      "source": [
        "data.head()"
      ],
      "execution_count": 70,
      "outputs": [
        {
          "output_type": "execute_result",
          "data": {
            "text/html": [
              "<div>\n",
              "<style scoped>\n",
              "    .dataframe tbody tr th:only-of-type {\n",
              "        vertical-align: middle;\n",
              "    }\n",
              "\n",
              "    .dataframe tbody tr th {\n",
              "        vertical-align: top;\n",
              "    }\n",
              "\n",
              "    .dataframe thead th {\n",
              "        text-align: right;\n",
              "    }\n",
              "</style>\n",
              "<table border=\"1\" class=\"dataframe\">\n",
              "  <thead>\n",
              "    <tr style=\"text-align: right;\">\n",
              "      <th></th>\n",
              "      <th>v1</th>\n",
              "      <th>v2</th>\n",
              "      <th>Unnamed: 2</th>\n",
              "      <th>Unnamed: 3</th>\n",
              "      <th>Unnamed: 4</th>\n",
              "    </tr>\n",
              "  </thead>\n",
              "  <tbody>\n",
              "    <tr>\n",
              "      <th>0</th>\n",
              "      <td>ham</td>\n",
              "      <td>Go until jurong point, crazy.. Available only ...</td>\n",
              "      <td>NaN</td>\n",
              "      <td>NaN</td>\n",
              "      <td>NaN</td>\n",
              "    </tr>\n",
              "    <tr>\n",
              "      <th>1</th>\n",
              "      <td>ham</td>\n",
              "      <td>Ok lar... Joking wif u oni...</td>\n",
              "      <td>NaN</td>\n",
              "      <td>NaN</td>\n",
              "      <td>NaN</td>\n",
              "    </tr>\n",
              "    <tr>\n",
              "      <th>2</th>\n",
              "      <td>spam</td>\n",
              "      <td>Free entry in 2 a wkly comp to win FA Cup fina...</td>\n",
              "      <td>NaN</td>\n",
              "      <td>NaN</td>\n",
              "      <td>NaN</td>\n",
              "    </tr>\n",
              "    <tr>\n",
              "      <th>3</th>\n",
              "      <td>ham</td>\n",
              "      <td>U dun say so early hor... U c already then say...</td>\n",
              "      <td>NaN</td>\n",
              "      <td>NaN</td>\n",
              "      <td>NaN</td>\n",
              "    </tr>\n",
              "    <tr>\n",
              "      <th>4</th>\n",
              "      <td>ham</td>\n",
              "      <td>Nah I don't think he goes to usf, he lives aro...</td>\n",
              "      <td>NaN</td>\n",
              "      <td>NaN</td>\n",
              "      <td>NaN</td>\n",
              "    </tr>\n",
              "  </tbody>\n",
              "</table>\n",
              "</div>"
            ],
            "text/plain": [
              "     v1                                                 v2 Unnamed: 2  \\\n",
              "0   ham  Go until jurong point, crazy.. Available only ...        NaN   \n",
              "1   ham                      Ok lar... Joking wif u oni...        NaN   \n",
              "2  spam  Free entry in 2 a wkly comp to win FA Cup fina...        NaN   \n",
              "3   ham  U dun say so early hor... U c already then say...        NaN   \n",
              "4   ham  Nah I don't think he goes to usf, he lives aro...        NaN   \n",
              "\n",
              "  Unnamed: 3 Unnamed: 4  \n",
              "0        NaN        NaN  \n",
              "1        NaN        NaN  \n",
              "2        NaN        NaN  \n",
              "3        NaN        NaN  \n",
              "4        NaN        NaN  "
            ]
          },
          "metadata": {
            "tags": []
          },
          "execution_count": 70
        }
      ]
    },
    {
      "cell_type": "code",
      "metadata": {
        "id": "RMu9aQQ_Z0Pj",
        "colab_type": "code",
        "colab": {}
      },
      "source": [
        "data.drop(['Unnamed: 2', 'Unnamed: 3', 'Unnamed: 4'], axis=1, inplace=True)\n",
        "data[\"label\"]=data[\"v1\"].map({\"ham\":0, \"spam\":1})"
      ],
      "execution_count": 0,
      "outputs": []
    },
    {
      "cell_type": "code",
      "metadata": {
        "id": "6eiNgmBMZ3E9",
        "colab_type": "code",
        "outputId": "3a524457-6220-488b-d202-fc6b57d5dcd1",
        "colab": {
          "base_uri": "https://localhost:8080/",
          "height": 206
        }
      },
      "source": [
        "data.head()"
      ],
      "execution_count": 72,
      "outputs": [
        {
          "output_type": "execute_result",
          "data": {
            "text/html": [
              "<div>\n",
              "<style scoped>\n",
              "    .dataframe tbody tr th:only-of-type {\n",
              "        vertical-align: middle;\n",
              "    }\n",
              "\n",
              "    .dataframe tbody tr th {\n",
              "        vertical-align: top;\n",
              "    }\n",
              "\n",
              "    .dataframe thead th {\n",
              "        text-align: right;\n",
              "    }\n",
              "</style>\n",
              "<table border=\"1\" class=\"dataframe\">\n",
              "  <thead>\n",
              "    <tr style=\"text-align: right;\">\n",
              "      <th></th>\n",
              "      <th>v1</th>\n",
              "      <th>v2</th>\n",
              "      <th>label</th>\n",
              "    </tr>\n",
              "  </thead>\n",
              "  <tbody>\n",
              "    <tr>\n",
              "      <th>0</th>\n",
              "      <td>ham</td>\n",
              "      <td>Go until jurong point, crazy.. Available only ...</td>\n",
              "      <td>0</td>\n",
              "    </tr>\n",
              "    <tr>\n",
              "      <th>1</th>\n",
              "      <td>ham</td>\n",
              "      <td>Ok lar... Joking wif u oni...</td>\n",
              "      <td>0</td>\n",
              "    </tr>\n",
              "    <tr>\n",
              "      <th>2</th>\n",
              "      <td>spam</td>\n",
              "      <td>Free entry in 2 a wkly comp to win FA Cup fina...</td>\n",
              "      <td>1</td>\n",
              "    </tr>\n",
              "    <tr>\n",
              "      <th>3</th>\n",
              "      <td>ham</td>\n",
              "      <td>U dun say so early hor... U c already then say...</td>\n",
              "      <td>0</td>\n",
              "    </tr>\n",
              "    <tr>\n",
              "      <th>4</th>\n",
              "      <td>ham</td>\n",
              "      <td>Nah I don't think he goes to usf, he lives aro...</td>\n",
              "      <td>0</td>\n",
              "    </tr>\n",
              "  </tbody>\n",
              "</table>\n",
              "</div>"
            ],
            "text/plain": [
              "     v1                                                 v2  label\n",
              "0   ham  Go until jurong point, crazy.. Available only ...      0\n",
              "1   ham                      Ok lar... Joking wif u oni...      0\n",
              "2  spam  Free entry in 2 a wkly comp to win FA Cup fina...      1\n",
              "3   ham  U dun say so early hor... U c already then say...      0\n",
              "4   ham  Nah I don't think he goes to usf, he lives aro...      0"
            ]
          },
          "metadata": {
            "tags": []
          },
          "execution_count": 72
        }
      ]
    },
    {
      "cell_type": "code",
      "metadata": {
        "id": "rkgJ29fdbKQ4",
        "colab_type": "code",
        "colab": {}
      },
      "source": [
        "X=data[\"v2\"]\n",
        "y=data[\"label\"]\n",
        "count_vect=CountVectorizer()\n",
        "X=count_vect.fit_transform(X)"
      ],
      "execution_count": 0,
      "outputs": []
    },
    {
      "cell_type": "code",
      "metadata": {
        "id": "kk8e8Mw4bjtL",
        "colab_type": "code",
        "colab": {}
      },
      "source": [
        "X_train,X_test,y_train,y_test=train_test_split(X, y, test_size=0.33,random_state=42)"
      ],
      "execution_count": 0,
      "outputs": []
    },
    {
      "cell_type": "code",
      "metadata": {
        "id": "GIOAjlVVcLi7",
        "colab_type": "code",
        "outputId": "0de76ea5-875e-4bb9-f1dc-2c1e24917ee9",
        "colab": {
          "base_uri": "https://localhost:8080/",
          "height": 35
        }
      },
      "source": [
        "#model\n",
        "class_naive=MultinomialNB()\n",
        "class_naive.fit(X_train,y_train)"
      ],
      "execution_count": 75,
      "outputs": [
        {
          "output_type": "execute_result",
          "data": {
            "text/plain": [
              "MultinomialNB(alpha=1.0, class_prior=None, fit_prior=True)"
            ]
          },
          "metadata": {
            "tags": []
          },
          "execution_count": 75
        }
      ]
    },
    {
      "cell_type": "code",
      "metadata": {
        "id": "g9YZ1NG0cv_l",
        "colab_type": "code",
        "outputId": "273d2f0c-5780-470f-cc69-1423a0984d47",
        "colab": {
          "base_uri": "https://localhost:8080/",
          "height": 35
        }
      },
      "source": [
        "class_naive.score(X_test,y_test)"
      ],
      "execution_count": 76,
      "outputs": [
        {
          "output_type": "execute_result",
          "data": {
            "text/plain": [
              "0.9793365959760739"
            ]
          },
          "metadata": {
            "tags": []
          },
          "execution_count": 76
        }
      ]
    },
    {
      "cell_type": "code",
      "metadata": {
        "id": "SQYbWDS5c6hK",
        "colab_type": "code",
        "colab": {}
      },
      "source": [
        "y_pred=class_naive.predict(X_test)"
      ],
      "execution_count": 0,
      "outputs": []
    },
    {
      "cell_type": "code",
      "metadata": {
        "id": "rUO_MMuOdX_R",
        "colab_type": "code",
        "outputId": "6205067c-662d-417a-e0d4-ceacb264c6f8",
        "colab": {
          "base_uri": "https://localhost:8080/",
          "height": 183
        }
      },
      "source": [
        "print(classification_report(y_test,y_pred))"
      ],
      "execution_count": 78,
      "outputs": [
        {
          "output_type": "stream",
          "text": [
            "              precision    recall  f1-score   support\n",
            "\n",
            "           0       0.99      0.99      0.99      1587\n",
            "           1       0.93      0.92      0.92       252\n",
            "\n",
            "   micro avg       0.98      0.98      0.98      1839\n",
            "   macro avg       0.96      0.95      0.96      1839\n",
            "weighted avg       0.98      0.98      0.98      1839\n",
            "\n"
          ],
          "name": "stdout"
        }
      ]
    },
    {
      "cell_type": "markdown",
      "metadata": {
        "id": "EkWB9XaDdksG",
        "colab_type": "text"
      },
      "source": [
        "Not only Naive Bayes classifier is easy to implement but also provides very good result.\n",
        "\n",
        "After training the model, it is desirable to have a way to persist the model for future use without having to retrain. To achieve this, we add the following lines to save our model as a .pkl file for the later use."
      ]
    },
    {
      "cell_type": "code",
      "metadata": {
        "id": "mRYVLLnLde0E",
        "colab_type": "code",
        "colab": {
          "base_uri": "https://localhost:8080/",
          "height": 35
        },
        "outputId": "a0c1c588-81dd-4f09-fde9-50ea42e20524"
      },
      "source": [
        "from sklearn.externals import joblib\n",
        "joblib.dump(class_naive,\"NB_spam_mdel.pkl\")"
      ],
      "execution_count": 79,
      "outputs": [
        {
          "output_type": "execute_result",
          "data": {
            "text/plain": [
              "['NB_spam_mdel.pkl']"
            ]
          },
          "metadata": {
            "tags": []
          },
          "execution_count": 79
        }
      ]
    },
    {
      "cell_type": "markdown",
      "metadata": {
        "id": "qhCk_iA5eAA4",
        "colab_type": "text"
      },
      "source": [
        "And we can load and use saved model later like s"
      ]
    },
    {
      "cell_type": "code",
      "metadata": {
        "id": "5eWLC5a9d8cT",
        "colab_type": "code",
        "colab": {}
      },
      "source": [
        "NB_spam_model=open(\"NB_spam_mdel.pkl\",\"rb\")\n",
        "clf=joblib.load(NB_spam_model)"
      ],
      "execution_count": 0,
      "outputs": []
    },
    {
      "cell_type": "markdown",
      "metadata": {
        "id": "h6eaNB3feUcp",
        "colab_type": "text"
      },
      "source": [
        "The above process called “persist model in a standard format”, that is, models are persisted in a certain format specific to the language in development.\n",
        "\n",
        "And the model will be served in a micro-service that expose endpoints to receive requests from client. This is the next step."
      ]
    },
    {
      "cell_type": "markdown",
      "metadata": {
        "id": "gonNsQDceYc-",
        "colab_type": "text"
      },
      "source": [
        "\n",
        "**Turning the Spam Message Classifier into a Web Application**\n",
        "Having prepared the code for classifying SMS messages in the previous section, we will develop a web application that consists of a simple web page with a form field that lets us enter a message. After submitting the message to the web application, it will render it on a new page which gives us a result of spam or not spam.\n",
        "\n",
        "First, we create a folder for this project called SMS-Message-Spam-Detector , this is the directory tree inside the folder. We will explain each file."
      ]
    },
    {
      "cell_type": "markdown",
      "metadata": {
        "id": "-UpwkrrZe2BP",
        "colab_type": "text"
      },
      "source": [
        "\n",
        "\n",
        "```\n",
        "spam.csv\n",
        "app.py\n",
        "templates/\n",
        "        home.html\n",
        "        result.html\n",
        "static/\n",
        "        style.css\n",
        "```\n",
        "\n"
      ]
    },
    {
      "cell_type": "markdown",
      "metadata": {
        "id": "oT2ldta0fADf",
        "colab_type": "text"
      },
      "source": [
        "The sub-directory templates is the directory in which Flask will look for static HTML files for rendering in the web browser, in our case, we have two html files: home.html and result.html ."
      ]
    },
    {
      "cell_type": "markdown",
      "metadata": {
        "id": "rYmb-_uGfDFy",
        "colab_type": "text"
      },
      "source": [
        "\n",
        "**app.py**\n",
        "\n",
        "The app.py file contains the main code that will be executed by the Python interpreter to run the Flask web application, it included the ML code for classifying SMS messages:"
      ]
    },
    {
      "cell_type": "code",
      "metadata": {
        "id": "3vF2XOSWeMeY",
        "colab_type": "code",
        "colab": {}
      },
      "source": [
        "from flask import Flask,render_template,url_for, request\n",
        "import pandas as pd\n",
        "import pickle\n",
        "from sklearn.feature_extraction.text import CountVectorizer\n",
        "from sklearn.naive_bayes import MultinomialNB\n",
        "from sklearn.externals import joblib"
      ],
      "execution_count": 0,
      "outputs": []
    },
    {
      "cell_type": "code",
      "metadata": {
        "id": "zB0OFYPTffyr",
        "colab_type": "code",
        "colab": {}
      },
      "source": [
        "app= Flask(__name__)\n",
        "@app.route(\"/\")\n",
        "\n",
        "def home():\n",
        "  return render_template(\"home.html\")\n",
        "\n",
        "@app.route(\"/predict\",methods=[\"POST\"])\n",
        "def predict():\n",
        "  #Alternative Usage of Saved Model\n",
        "  joblib.dump(clf, 'NB_spam_model.pkl')\n",
        "  NB_spam_model = open('NB_spam_model.pkl','rb')\n",
        "  class_naive = joblib.load(NB_spam_model)\n",
        "  \n",
        "  if request.method== \"POST\":\n",
        "    message=request.form[\"message\"]\n",
        "    data[message]\n",
        "    count_vect=class_naive.transform(data).toarray()\n",
        "    my_prediction=class_naive.predict(vect)\n",
        "  return render_template(\"results.html\",prediction=my_prediction)\n",
        "\n",
        "if \"_name__\"==\"__main__\":\n",
        "  app.run(debug=Ture)"
      ],
      "execution_count": 0,
      "outputs": []
    },
    {
      "cell_type": "markdown",
      "metadata": {
        "id": "EjE0SVNOeyYS",
        "colab_type": "text"
      },
      "source": [
        "\n",
        "\n",
        "*    We ran our application as a single module; thus we initialized a new Flask instance with the argument __name__ to let Flask know that it can find the HTML template folder (templates) in the same directory where it is located.\n",
        "*       Next, we used the route decorator (@app.route('/')) to specify the URL that should trigger the execution of the home function.\n",
        "\n",
        "*       Our home function simply rendered the home.html HTML file, which is located in the templates folder.\n",
        "  \n",
        "*     Inside the predict function, we access the spam data set, pre-process the text, and make predictions, then store the model. We access the new message entered by the user and use our model to make a prediction for its label.\n",
        "\n",
        "*       we used the POST method to transport the form data to the server in the message body. Finally, by setting the debug=True argument inside the app.run method, we further activated Flask's debugger.\n",
        "*    Lastly, we used the run function to only run the application on the server when this script is directly executed by the Python interpreter, which we ensured using the if statement with __name__ == '__main__'.\n",
        "\n",
        "\n",
        "\n",
        "\n",
        "\n",
        "   "
      ]
    },
    {
      "cell_type": "markdown",
      "metadata": {
        "id": "EpuwaI9oizv6",
        "colab_type": "text"
      },
      "source": [
        "**home.html**"
      ]
    },
    {
      "cell_type": "markdown",
      "metadata": {
        "id": "O5Z4-0xEicnh",
        "colab_type": "text"
      },
      "source": [
        "\n",
        "\n",
        "```\n",
        "<!DOCTYPE html>\n",
        "<html>\n",
        "<head>\n",
        "\t<title>Home</title>\n",
        "\t<!-- <link rel=\"stylesheet\" type=\"text/css\" href=\"../static/css/styles.css\"> -->\n",
        "\t<link rel=\"stylesheet\" type=\"text/css\" href=\"{{ url_for('static', filename='css/styles.css') }}\">\n",
        "</head>\n",
        "<body>\n",
        "\n",
        "\t<header>\n",
        "\t\t<div class=\"container\">\n",
        "\t\t<div id=\"brandname\">\n",
        "\t\t\tMachine Learning App with Flask\n",
        "\t\t</div>\n",
        "\t\t<h2>Spam Detector For SMS Messages</h2>\n",
        "\t\t\n",
        "\t</div>\n",
        "\t</header>\n",
        "\t<div class=\"ml-container\">\n",
        "\t\t<form action=\"{{ url_for('predict')}}\" method=\"POST\">\n",
        "\t\t<p>Enter Your Message Here</p>\n",
        "\t\t<!-- <input type=\"text\" name=\"comment\"/> -->\n",
        "\t\t<textarea name=\"message\" rows=\"4\" cols=\"50\"></textarea>\n",
        "\t\t<br/>\n",
        "\t\t<input type=\"submit\" class=\"btn-info\" value=\"predict\">\n",
        "\t</form>\n",
        "\t</div>\n",
        "</body>\n",
        "</html>\n",
        "```\n",
        "\n"
      ]
    },
    {
      "cell_type": "markdown",
      "metadata": {
        "id": "-RYRrHj0i4Nt",
        "colab_type": "text"
      },
      "source": [
        "**style.css**\n",
        "\n",
        "\n",
        "In the header section of home.html, we loaded styles.cssfile. CSS is to determine how the look and feel of HTML documents. styles.css has to be saved in a sub-directory calledstatic, which is the default directory where Flask looks for static files such as CSS.\n",
        "```\n",
        "body{\n",
        "\tfont:15px/1.5 Arial, Helvetica,sans-serif;\n",
        "\tpadding: 0px;\n",
        "\tbackground-color:#f4f3f3;\n",
        "}\n",
        "\n",
        ".container{\n",
        "\twidth:100%;\n",
        "\tmargin: auto;\n",
        "\toverflow: hidden;\n",
        "}\n",
        "\n",
        "header{\n",
        "\tbackground:#03A9F4;#35434a;\n",
        "\tborder-bottom:#448AFF 3px solid;\n",
        "\theight:120px;\n",
        "\twidth:100%;\n",
        "\tpadding-top:30px;\n",
        "\n",
        "}\n",
        "\n",
        ".main-header{\n",
        "\t\t\ttext-align:center;\n",
        "\t\t\tbackground-color: blue;\n",
        "\t\t\theight:100px;\n",
        "\t\t\twidth:100%;\n",
        "\t\t\tmargin:0px;\n",
        "\t\t}\n",
        "#brandname{\n",
        "\tfloat:left;\n",
        "\tfont-size:30px;\n",
        "\tcolor: #fff;\n",
        "\tmargin: 10px;\n",
        "}\n",
        "\n",
        "header h2{\n",
        "\ttext-align:center;\n",
        "\tcolor:#fff;\n",
        "\n",
        "}\n",
        ".btn-info {background-color: #2196F3;\n",
        "\theight:40px;\n",
        "\twidth:100px;} /* Blue */\n",
        ".btn-info:hover {background: #0b7dda;}\n",
        "\n",
        ".resultss{\n",
        "\tborder-radius: 15px 50px;\n",
        "    background: #345fe4;\n",
        "    padding: 20px; \n",
        "    width: 200px;\n",
        "    height: 150px;\n",
        "}\n",
        "```\n",
        "\n"
      ]
    },
    {
      "cell_type": "markdown",
      "metadata": {
        "id": "PrV2PEV9jKLX",
        "colab_type": "text"
      },
      "source": [
        "**result.html**\n",
        "\n",
        "we create a result.html file that will be rendered via the render_template('result.html', prediction=my_prediction) line return inside the predictfunction, which we defined in the app.py script to display the text that a user submitted via the text field. The result.htmlfile contains the following content:\n",
        "\n",
        "\n",
        "\n",
        "```\n",
        "<!DOCTYPE html>\n",
        "<html>\n",
        "<head>\n",
        "\t<title></title>\n",
        "    <link rel=\"stylesheet\" type=\"text/css\" href=\"{{ url_for('static', filename='css/styles.css') }}\">\n",
        "</head>\n",
        "<body>\n",
        "\n",
        "\t<header>\n",
        "\t\t<div class=\"container\">\n",
        "\t\t<div id=\"brandname\">\n",
        "\t\t\tML App\n",
        "\t\t</div>\n",
        "\t\t<h2>Spam Detector For SMS Messages</h2>\n",
        "\t\t\n",
        "\t</div>\n",
        "\t</header>\n",
        "\t<p style=\"color:blue;font-size:20;text-align: center;\"><b>Results for Comment</b></p>\n",
        "\t<div class=\"results\">\n",
        "\t{% if prediction == 1%}\n",
        "\t<h2 style=\"color:red;\">Spam</h2>\n",
        "\t{% elif prediction == 0%}\n",
        "\t<h2 style=\"color:blue;\">Not a Spam (It is a Ham)</h2>\n",
        "\t{% endif %}\n",
        "\t</div>\n",
        "</body>\n",
        "</html>\n",
        "```\n",
        "\n"
      ]
    },
    {
      "cell_type": "markdown",
      "metadata": {
        "id": "B0q4J8bBjarn",
        "colab_type": "text"
      },
      "source": [
        "From result.htm we can see that some code using syntax not normally found in HTML files: {% if prediction ==1%},{% elif prediction == 0%},{% endif %}This is jinja syntax, and it is used to access the prediction returned from our HTTP request within the HTML file.\n",
        "\n",
        "We are almost there!\n",
        "\n",
        "Once you have done all of the above, you can start running the API by either double click appy.py , or executing the command from the Terminal:"
      ]
    },
    {
      "cell_type": "code",
      "metadata": {
        "id": "jWPJDCBghr9S",
        "colab_type": "code",
        "colab": {}
      },
      "source": [
        "cd SMS-Message-Spam-Detector\n",
        "python app.py"
      ],
      "execution_count": 0,
      "outputs": []
    },
    {
      "cell_type": "markdown",
      "metadata": {
        "id": "CKNCnvlyjsUP",
        "colab_type": "text"
      },
      "source": [
        "Now you could open a web browser and navigate to http://127.0.0.1:5000/, we should see a simple website with the content"
      ]
    },
    {
      "cell_type": "markdown",
      "metadata": {
        "id": "0mLfPqWgjyVp",
        "colab_type": "text"
      },
      "source": [
        "Congratulations! We have now created an end-to-end machine learning (NLP) application at zero cost. If you look it back, the overall process is not complicated at all. With a little bit patience and desire to learn, anyone can do it. All the open-source tools make every thing possible."
      ]
    },
    {
      "cell_type": "code",
      "metadata": {
        "id": "LfVgA9YylUPm",
        "colab_type": "code",
        "colab": {}
      },
      "source": [
        ""
      ],
      "execution_count": 0,
      "outputs": []
    }
  ]
}