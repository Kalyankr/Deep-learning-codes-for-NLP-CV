{
  "nbformat": 4,
  "nbformat_minor": 0,
  "metadata": {
    "colab": {
      "name": "Multi Label Text Classification.ipynb",
      "version": "0.3.2",
      "provenance": []
    },
    "kernelspec": {
      "name": "python3",
      "display_name": "Python 3"
    }
  },
  "cells": [
    {
      "cell_type": "markdown",
      "metadata": {
        "id": "LyWO-uQ2X4Eh",
        "colab_type": "text"
      },
      "source": [
        "In this Notebook, we will build a multi-label model that’s capable of detecting different types of toxicity like severe toxic, threats, obscenity, insults, and so on. We will be using supervised classifiers and text representations. A toxic comment might be about any of toxic, severe toxic, obscene, threat, insult or identity hate at the same time or none of the above. The data set can be found at Kaggle [here](https://www.kaggle.com/jhoward/nb-svm-strong-linear-baseline/data)"
      ]
    },
    {
      "cell_type": "code",
      "metadata": {
        "id": "Jh-jtCoxCPAd",
        "colab_type": "code",
        "colab": {}
      },
      "source": [
        "import numpy as np\n",
        "import pandas as pd\n",
        "import re\n",
        "%matplotlib inline\n",
        "import matplotlib.pyplot as plt\n",
        "import seaborn as sns\n",
        "from sklearn.model_selection import train_test_split\n",
        "from sklearn.feature_extraction.text import TfidfVectorizer"
      ],
      "execution_count": 0,
      "outputs": []
    },
    {
      "cell_type": "code",
      "metadata": {
        "id": "k83GbFL9DWuQ",
        "colab_type": "code",
        "colab": {}
      },
      "source": [
        "df = pd.read_csv(\"train.csv\", encoding = \"ISO-8859-1\",engine=\"python\",error_bad_lines=False)\n",
        "df.head()"
      ],
      "execution_count": 0,
      "outputs": []
    },
    {
      "cell_type": "code",
      "metadata": {
        "id": "XfTWN_lQDk2W",
        "colab_type": "code",
        "colab": {}
      },
      "source": [
        "df.shape"
      ],
      "execution_count": 0,
      "outputs": []
    },
    {
      "cell_type": "markdown",
      "metadata": {
        "id": "T2g5M1GTGD9C",
        "colab_type": "text"
      },
      "source": [
        "**Lets see the number of comments in each category**"
      ]
    },
    {
      "cell_type": "code",
      "metadata": {
        "id": "l1BYMXG9F66e",
        "colab_type": "code",
        "colab": {}
      },
      "source": [
        "data=df.drop([\"id\",\"comment_text\"],axis=1)\n",
        "counts=[]\n",
        "categories=list(data.columns.values)\n",
        "for i in categories:\n",
        "  counts.append((i, data[i].sum()))\n",
        "data_stats=pd.DataFrame(counts,columns=[\"category\",\"number_of_commnets\"])\n",
        "data_stats"
      ],
      "execution_count": 0,
      "outputs": []
    },
    {
      "cell_type": "code",
      "metadata": {
        "id": "zRf6PVxKIuBj",
        "colab_type": "code",
        "colab": {
          "base_uri": "https://localhost:8080/",
          "height": 370
        },
        "outputId": "6a6e1b75-c9df-4f93-994f-305289992476"
      },
      "source": [
        "\n",
        "plt.figure(figsize=(8,5))\n",
        "ax=sns.barplot(data_stats.category,data_stats.number_of_commnets)\n",
        "\n",
        "plt.title(\"Number of comments per category\")\n",
        "plt.ylabel(\"Count\")\n",
        "plt.xlabel(\"category\")"
      ],
      "execution_count": 32,
      "outputs": [
        {
          "output_type": "execute_result",
          "data": {
            "text/plain": [
              "Text(0.5, 0, 'category')"
            ]
          },
          "metadata": {
            "tags": []
          },
          "execution_count": 32
        },
        {
          "output_type": "display_data",
          "data": {
            "image/png": "[encoded data removed]",
            "text/plain": [
              "<Figure size 576x360 with 1 Axes>"
            ]
          },
          "metadata": {
            "tags": []
          }
        }
      ]
    },
    {
      "cell_type": "markdown",
      "metadata": {
        "id": "3_HL5g8dLsd1",
        "colab_type": "text"
      },
      "source": [
        "**multi-Label**\n",
        "How many commnets has multi labels"
      ]
    },
    {
      "cell_type": "code",
      "metadata": {
        "id": "sBah8ckOJMUS",
        "colab_type": "code",
        "colab": {
          "base_uri": "https://localhost:8080/",
          "height": 372
        },
        "outputId": "986b2604-8f01-4d2e-d4d3-bb1c98816dab"
      },
      "source": [
        "multilabels=df.iloc[:,2:].sum(axis=1)\n",
        "x=multilabels.value_counts()\n",
        "\n",
        "plt.figure(figsize=(8,5))\n",
        "ax=sns.barplot(x.index,x.values)\n",
        "plt.title(\"Multiple categories per comment\")\n",
        "plt.ylabel('# of Occurrences', fontsize=12)\n",
        "plt.xlabel('# of categories', fontsize=12)"
      ],
      "execution_count": 28,
      "outputs": [
        {
          "output_type": "execute_result",
          "data": {
            "text/plain": [
              "Text(0.5, 0, '# of categories')"
            ]
          },
          "metadata": {
            "tags": []
          },
          "execution_count": 28
        },
        {
          "output_type": "display_data",
          "data": {
            "image/png": "[encoded data removed]",
            "text/plain": [
              "<Figure size 576x360 with 1 Axes>"
            ]
          },
          "metadata": {
            "tags": []
          }
        }
      ]
    },
    {
      "cell_type": "markdown",
      "metadata": {
        "id": "PqMIWg2rO13B",
        "colab_type": "text"
      },
      "source": [
        "The above plot shows that there are more observations without any labels i.e doesnt beong to any categorgy"
      ]
    },
    {
      "cell_type": "code",
      "metadata": {
        "id": "1t6FAXKGNV6w",
        "colab_type": "code",
        "colab": {
          "base_uri": "https://localhost:8080/",
          "height": 54
        },
        "outputId": "2a4fd63c-cc2f-42a5-a2f5-ea975a4d1604"
      },
      "source": [
        "print('Percentage of comments that are not labelled:')\n",
        "print(len(df[(df['toxic']==0) & (df['severe_toxic']==0) & (df['obscene']==0) & (df['threat']== 0) & (df['insult']==0) & (df['identity_hate']==0)]) / len(df))"
      ],
      "execution_count": 33,
      "outputs": [
        {
          "output_type": "stream",
          "text": [
            "Percentage of comments that are not labelled:\n",
            "0.8979834495191156\n"
          ],
          "name": "stdout"
        }
      ]
    },
    {
      "cell_type": "markdown",
      "metadata": {
        "id": "eJ66BSE6POBt",
        "colab_type": "text"
      },
      "source": [
        "Lets see the distribution of the number of words in comment texts"
      ]
    },
    {
      "cell_type": "code",
      "metadata": {
        "id": "pnGKTe14PKC6",
        "colab_type": "code",
        "colab": {
          "base_uri": "https://localhost:8080/",
          "height": 288
        },
        "outputId": "c7b14a29-ad70-4962-f190-083d4921c0fa"
      },
      "source": [
        "length=df.comment_text.str.len()\n",
        "length.hist(bins=np.arange(0,6000,50))"
      ],
      "execution_count": 38,
      "outputs": [
        {
          "output_type": "execute_result",
          "data": {
            "text/plain": [
              "<matplotlib.axes._subplots.AxesSubplot at 0x7faea62d2fd0>"
            ]
          },
          "metadata": {
            "tags": []
          },
          "execution_count": 38
        },
        {
          "output_type": "display_data",
          "data": {
            "image/png": "[encoded data removed]",
            "text/plain": [
              "<Figure size 432x288 with 1 Axes>"
            ]
          },
          "metadata": {
            "tags": []
          }
        }
      ]
    },
    {
      "cell_type": "markdown",
      "metadata": {
        "id": "hh2z2JsZPvM6",
        "colab_type": "text"
      },
      "source": [
        "Most of the comment text length are within the range of 500 charactors,  with few ranging to 5000 characters long"
      ]
    },
    {
      "cell_type": "code",
      "metadata": {
        "id": "i20-gBctPk-h",
        "colab_type": "code",
        "colab": {
          "base_uri": "https://localhost:8080/",
          "height": 36
        },
        "outputId": "1f978e7a-23ad-414e-bc68-1e5d9f9c1e7d"
      },
      "source": [
        "#misiing rows\n",
        "\n",
        "print(\"Missing comment_text rows:\",df[\"comment_text\"].isnull().sum())"
      ],
      "execution_count": 41,
      "outputs": [
        {
          "output_type": "stream",
          "text": [
            "Missing comment_text rows: 0\n"
          ],
          "name": "stdout"
        }
      ]
    },
    {
      "cell_type": "code",
      "metadata": {
        "id": "t8HfxW_kQU_b",
        "colab_type": "code",
        "colab": {
          "base_uri": "https://localhost:8080/",
          "height": 36
        },
        "outputId": "fbe2b561-01fb-4508-e9b2-82842d92a05c"
      },
      "source": [
        "#lets look at one comment_text\n",
        "df[\"comment_text\"][79]"
      ],
      "execution_count": 42,
      "outputs": [
        {
          "output_type": "execute_result",
          "data": {
            "text/plain": [
              "'Hi! I am back again!\\nLast warning!\\nStop undoing my edits or die!'"
            ]
          },
          "metadata": {
            "tags": []
          },
          "execution_count": 42
        }
      ]
    },
    {
      "cell_type": "markdown",
      "metadata": {
        "id": "6TPBLiJUQ2s1",
        "colab_type": "text"
      },
      "source": [
        "The text needs preprocessing, lets clean the text"
      ]
    },
    {
      "cell_type": "code",
      "metadata": {
        "id": "kz-NX20VQv8p",
        "colab_type": "code",
        "colab": {}
      },
      "source": [
        "def clean_text(text):\n",
        "    text = text.lower()\n",
        "    text = re.sub(r\"what's\", \"what is \", text)\n",
        "    text = re.sub(r\"\\'s\", \" \", text)\n",
        "    text = re.sub(r\"\\'ve\", \" have \", text)\n",
        "    text = re.sub(r\"can't\", \"can not \", text)\n",
        "    text = re.sub(r\"n't\", \" not \", text)\n",
        "    text = re.sub(r\"i'm\", \"i am \", text)\n",
        "    text = re.sub(r\"\\'re\", \" are \", text)\n",
        "    text = re.sub(r\"\\'d\", \" would \", text)\n",
        "    text = re.sub(r\"\\'ll\", \" will \", text)\n",
        "    text = re.sub(r\"\\'scuse\", \" excuse \", text)\n",
        "    text = re.sub('\\W', ' ', text)\n",
        "    text = re.sub('\\s+', ' ', text)\n",
        "    text = text.strip(' ')\n",
        "    return text"
      ],
      "execution_count": 0,
      "outputs": []
    },
    {
      "cell_type": "code",
      "metadata": {
        "id": "K0l8025rROBE",
        "colab_type": "code",
        "colab": {}
      },
      "source": [
        "df[\"comment_text\"]=df[\"comment_text\"].map(lambda com: clean_text(com))"
      ],
      "execution_count": 0,
      "outputs": []
    },
    {
      "cell_type": "code",
      "metadata": {
        "id": "5k6oUZWARbT5",
        "colab_type": "code",
        "colab": {
          "base_uri": "https://localhost:8080/",
          "height": 36
        },
        "outputId": "c14922a2-fd84-4f84-ea34-90482ba19f85"
      },
      "source": [
        "df[\"comment_text\"][79]"
      ],
      "execution_count": 45,
      "outputs": [
        {
          "output_type": "execute_result",
          "data": {
            "text/plain": [
              "'hi i am back again last warning stop undoing my edits or die'"
            ]
          },
          "metadata": {
            "tags": []
          },
          "execution_count": 45
        }
      ]
    },
    {
      "cell_type": "markdown",
      "metadata": {
        "id": "sUFzhLlBRqKx",
        "colab_type": "text"
      },
      "source": [
        "Now will make training ang testing sets for building model"
      ]
    },
    {
      "cell_type": "code",
      "metadata": {
        "id": "bJQ0sdJGRkad",
        "colab_type": "code",
        "colab": {
          "base_uri": "https://localhost:8080/",
          "height": 54
        },
        "outputId": "b85aa633-c3c3-48cc-f159-7f0335ed2dfc"
      },
      "source": [
        "categories=[\"toxic\",\"severe_toxic\",\"obscene\",\"threat\",\"insult\",\"identity_hate\"]\n",
        "train,test=train_test_split(df,random_state=42,test_size=0.25,shuffle=True)\n",
        "X_train=train.comment_text\n",
        "X_test=test.comment_text\n",
        "print(\"train shape:\",X_train.shape)\n",
        "print(\"test shape:\",X_test.shape)"
      ],
      "execution_count": 55,
      "outputs": [
        {
          "output_type": "stream",
          "text": [
            "train shape: (78215,)\n",
            "test shape: (26072,)\n"
          ],
          "name": "stdout"
        }
      ]
    },
    {
      "cell_type": "markdown",
      "metadata": {
        "id": "dPWL14UMSuas",
        "colab_type": "text"
      },
      "source": [
        "**Classifiers Training**\n",
        "**Pipeline** \n",
        "\n",
        "Scikit-learn provides a pipeline utility to help automate machine learning workflows. Pipelines are very common in Machine Learning systems, since there is a lot of data to manipulate and many data transformations to apply. So we will utilize pipeline to train every classifier."
      ]
    },
    {
      "cell_type": "markdown",
      "metadata": {
        "id": "fldpXHjRS7zn",
        "colab_type": "text"
      },
      "source": [
        "**One Vs Rest multi-label strategy**\n",
        "\n",
        "The Multi-label algorithm accepts a binary mask over multiple labels. The result for each prediction will be an array of 0s and 1s marking which class labels apply to each row input sample"
      ]
    },
    {
      "cell_type": "markdown",
      "metadata": {
        "id": "pN7_aH_ETDzF",
        "colab_type": "text"
      },
      "source": [
        "Lets start with **Naive Bayes**\n",
        "\n",
        "\n",
        "OneVsRest strategy can be used for multi-label learning, where a classifier is used to predict multiple labels for instance. Naive Bayes supports multi-class, but we are in a multi-label scenario, therefore, we wrap Naive Bayes in the OneVsRestClassifier."
      ]
    },
    {
      "cell_type": "code",
      "metadata": {
        "id": "NMOuqD10Sj-P",
        "colab_type": "code",
        "colab": {
          "base_uri": "https://localhost:8080/",
          "height": 54
        },
        "outputId": "24a9c6b5-e82f-4445-ff55-350ecf2a8799"
      },
      "source": [
        "import nltk\n",
        "nltk.download('stopwords')\n",
        "from sklearn.pipeline import Pipeline\n",
        "from sklearn.naive_bayes import MultinomialNB\n",
        "from sklearn.multiclass import OneVsRestClassifier\n",
        "from nltk.corpus import stopwords\n",
        "from sklearn.metrics import accuracy_score\n",
        "stop_words = set(stopwords.words('english'))\n",
        "Nb_pipeline=Pipeline([(\"tfidf\",TfidfVectorizer(stop_words=stop_words)),\n",
        "                     (\"clf\",OneVsRestClassifier(MultinomialNB(fit_prior=True, class_prior=None)))])"
      ],
      "execution_count": 56,
      "outputs": [
        {
          "output_type": "stream",
          "text": [
            "[nltk_data] Downloading package stopwords to /root/nltk_data...\n",
            "[nltk_data]   Package stopwords is already up-to-date!\n"
          ],
          "name": "stdout"
        }
      ]
    },
    {
      "cell_type": "code",
      "metadata": {
        "id": "-eEsWiLkULmN",
        "colab_type": "code",
        "colab": {
          "base_uri": "https://localhost:8080/",
          "height": 241
        },
        "outputId": "b3c6fd54-0ed6-414b-8562-553374c8d979"
      },
      "source": [
        "for category in categories:\n",
        "    print('... Processing {}'.format(category))\n",
        "    # train the model using X_dtm & y\n",
        "    Nb_pipeline.fit(X_train, train[category])\n",
        "    # compute the testing accuracy\n",
        "    prediction = Nb_pipeline.predict(X_test)\n",
        "    print('Test accuracy is {}'.format(accuracy_score(test[category], prediction)))"
      ],
      "execution_count": 57,
      "outputs": [
        {
          "output_type": "stream",
          "text": [
            "... Processing toxic\n",
            "Test accuracy is 0.9205277692543725\n",
            "... Processing severe_toxic\n",
            "Test accuracy is 0.9901810371279534\n",
            "... Processing obscene\n",
            "Test accuracy is 0.9524393985885241\n",
            "... Processing threat\n",
            "Test accuracy is 0.9967781528076097\n",
            "... Processing insult\n",
            "Test accuracy is 0.9526311752071187\n",
            "... Processing identity_hate\n",
            "Test accuracy is 0.9916001841055538\n"
          ],
          "name": "stdout"
        }
      ]
    },
    {
      "cell_type": "markdown",
      "metadata": {
        "id": "8W2sVUjoVrI0",
        "colab_type": "text"
      },
      "source": [
        "Lets see **LinearSVC**"
      ]
    },
    {
      "cell_type": "code",
      "metadata": {
        "id": "GkBTwmVBU1_l",
        "colab_type": "code",
        "colab": {
          "base_uri": "https://localhost:8080/",
          "height": 241
        },
        "outputId": "643c2d7d-0201-404f-80b6-aca98a4f2767"
      },
      "source": [
        "from sklearn.svm import LinearSVC\n",
        "Lsvc_pipeline=Pipeline([(\"tfidf\",TfidfVectorizer(stop_words=stop_words)),\n",
        "                     (\"clf\",OneVsRestClassifier(LinearSVC(),n_jobs=1))])\n",
        "\n",
        "for category in categories:\n",
        "    print('... Processing {}'.format(category))\n",
        "    # train the model using X_dtm & y\n",
        "    Lsvc_pipeline.fit(X_train, train[category])\n",
        "    # compute the testing accuracy\n",
        "    prediction = Lsvc_pipeline.predict(X_test)\n",
        "    print('Test accuracy is {}'.format(accuracy_score(test[category], prediction)))"
      ],
      "execution_count": 59,
      "outputs": [
        {
          "output_type": "stream",
          "text": [
            "... Processing toxic\n",
            "Test accuracy is 0.9595351334765265\n",
            "... Processing severe_toxic\n",
            "Test accuracy is 0.9901043264805155\n",
            "... Processing obscene\n",
            "Test accuracy is 0.9786744400122737\n",
            "... Processing threat\n",
            "Test accuracy is 0.9972767720159558\n",
            "... Processing insult\n",
            "Test accuracy is 0.9709650199447684\n",
            "... Processing identity_hate\n",
            "Test accuracy is 0.9922905799324946\n"
          ],
          "name": "stdout"
        }
      ]
    },
    {
      "cell_type": "markdown",
      "metadata": {
        "id": "Tz_navGRWkzr",
        "colab_type": "text"
      },
      "source": [
        "Lets go to **Logostic Regression**"
      ]
    },
    {
      "cell_type": "code",
      "metadata": {
        "id": "tNccMonaWTep",
        "colab_type": "code",
        "colab": {
          "base_uri": "https://localhost:8080/",
          "height": 241
        },
        "outputId": "de3414bd-7ad3-4c88-c6d2-c305b9fa8870"
      },
      "source": [
        "from sklearn.linear_model import LogisticRegression\n",
        "Log_pipeline=Pipeline([(\"tfidf\",TfidfVectorizer(stop_words=stop_words)),\n",
        "                     (\"clf\",OneVsRestClassifier(LogisticRegression(solver=\"sag\"),n_jobs=1))])\n",
        "\n",
        "for category in categories:\n",
        "    print('... Processing {}'.format(category))\n",
        "    # train the model using X_dtm & y\n",
        "    Log_pipeline.fit(X_train, train[category])\n",
        "    # compute the testing accuracy\n",
        "    prediction = Log_pipeline.predict(X_test)\n",
        "    print('Test accuracy is {}'.format(accuracy_score(test[category], prediction)))"
      ],
      "execution_count": 60,
      "outputs": [
        {
          "output_type": "stream",
          "text": [
            "... Processing toxic\n",
            "Test accuracy is 0.9522859772936484\n",
            "... Processing severe_toxic\n",
            "Test accuracy is 0.9907180116600184\n",
            "... Processing obscene\n",
            "Test accuracy is 0.9761813439705431\n",
            "... Processing threat\n",
            "Test accuracy is 0.9970849953973612\n",
            "... Processing insult\n",
            "Test accuracy is 0.9688171218165081\n",
            "... Processing identity_hate\n",
            "Test accuracy is 0.9917919607241485\n"
          ],
          "name": "stdout"
        }
      ]
    },
    {
      "cell_type": "markdown",
      "metadata": {
        "id": "DkX2eSSlXbqB",
        "colab_type": "text"
      },
      "source": [
        "As we see all the results are pretty much similar, which tells that the baseline was pretty good, We can build advanced models using n-grams to make models more generalized."
      ]
    }
  ]
}