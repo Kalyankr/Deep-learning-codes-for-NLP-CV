{
  "nbformat": 4,
  "nbformat_minor": 0,
  "metadata": {
    "colab": {
      "name": "Multi-Class Classification using LSTM.ipynb",
      "version": "0.3.2",
      "provenance": []
    },
    "kernelspec": {
      "name": "python3",
      "display_name": "Python 3"
    },
    "accelerator": "GPU"
  },
  "cells": [
    {
      "cell_type": "markdown",
      "metadata": {
        "id": "DytZf__pK-Vd",
        "colab_type": "text"
      },
      "source": [
        "Here I am building a Multi-class Classification using LSTM on the public data available [here](https://data.consumerfinance.gov/api/views/s6ew-h6mp/rows.csv?accessType=DOWNLOAD)  we will use the  Product and consumer review columns for classification"
      ]
    },
    {
      "cell_type": "code",
      "metadata": {
        "id": "QISAI76j7Y-1",
        "colab_type": "code",
        "colab": {}
      },
      "source": [
        "!wget -O Consumer_Complaints.csv https://data.consumerfinance.gov/api/views/s6ew-h6mp/rows.csv?accessType=DOWNLOAD"
      ],
      "execution_count": 0,
      "outputs": []
    },
    {
      "cell_type": "code",
      "metadata": {
        "id": "xFEgNSZZ7qwe",
        "colab_type": "code",
        "colab": {}
      },
      "source": [
        "import pandas as pd\n",
        "import numpy as np\n",
        "import matplotlib.pyplot as plt\n",
        "import plotly.graph_objs as go\n",
        "import plotly.plotly as py\n",
        "from plotly.offline import iplot\n",
        "import re\n",
        "import nltk\n",
        "nltk.download('stopwords')\n",
        "from nltk.corpus import stopwords\n",
        "from nltk import word_tokenize\n",
        "STOPWORDS = set(stopwords.words('english'))\n",
        "from keras.preprocessing.text import Tokenizer\n",
        "from keras.preprocessing.sequence import pad_sequences\n",
        "from sklearn.model_selection import train_test_split\n",
        "from keras.models import Sequential\n",
        "from keras.layers import Dense, Embedding, LSTM, SpatialDropout1D\n",
        "from sklearn.model_selection import train_test_split\n",
        "from keras.callbacks import EarlyStopping\n",
        "from keras.layers import Dropout"
      ],
      "execution_count": 0,
      "outputs": []
    },
    {
      "cell_type": "code",
      "metadata": {
        "id": "7ndRA00v7vna",
        "colab_type": "code",
        "colab": {}
      },
      "source": [
        "data=pd.read_csv(\"rows.csv?accessType=DOWNLOAD\",engine=\"python\" ,encoding='utf-8', error_bad_lines=False)"
      ],
      "execution_count": 0,
      "outputs": []
    },
    {
      "cell_type": "code",
      "metadata": {
        "id": "BFmET45-70FQ",
        "colab_type": "code",
        "colab": {
          "base_uri": "https://localhost:8080/",
          "height": 465
        },
        "outputId": "52e4ea34-5bdc-497a-a37c-984ebe98eabb"
      },
      "source": [
        "data.shape\n",
        "print(data.info())"
      ],
      "execution_count": 4,
      "outputs": [
        {
          "output_type": "stream",
          "text": [
            "<class 'pandas.core.frame.DataFrame'>\n",
            "RangeIndex: 1298835 entries, 0 to 1298834\n",
            "Data columns (total 18 columns):\n",
            "Date received                   1298835 non-null object\n",
            "Product                         1298835 non-null object\n",
            "Sub-product                     1063669 non-null object\n",
            "Issue                           1298835 non-null object\n",
            "Sub-issue                       765598 non-null object\n",
            "Consumer complaint narrative    384314 non-null object\n",
            "Company public response         458244 non-null object\n",
            "Company                         1298835 non-null object\n",
            "State                           1278830 non-null object\n",
            "ZIP code                        1181648 non-null object\n",
            "Tags                            177850 non-null object\n",
            "Consumer consent provided?      697709 non-null object\n",
            "Submitted via                   1298835 non-null object\n",
            "Date sent to company            1298835 non-null object\n",
            "Company response to consumer    1298828 non-null object\n",
            "Timely response?                1298835 non-null object\n",
            "Consumer disputed?              768501 non-null object\n",
            "Complaint ID                    1298835 non-null int64\n",
            "dtypes: int64(1), object(17)\n",
            "memory usage: 178.4+ MB\n",
            "None\n"
          ],
          "name": "stdout"
        }
      ]
    },
    {
      "cell_type": "code",
      "metadata": {
        "id": "uJUpBmp0728w",
        "colab_type": "code",
        "colab": {}
      },
      "source": [
        "col=[\"Product\",\"Consumer complaint narrative\"]\n",
        "data=data[col]\n",
        "data = data[pd.notnull(data['Consumer complaint narrative'])]"
      ],
      "execution_count": 0,
      "outputs": []
    },
    {
      "cell_type": "code",
      "metadata": {
        "id": "kpaLCEfV8Zb7",
        "colab_type": "code",
        "colab": {
          "base_uri": "https://localhost:8080/",
          "height": 372
        },
        "outputId": "0131a842-3210-452a-d759-c7b7c041b0bb"
      },
      "source": [
        "data.Product.value_counts()"
      ],
      "execution_count": 6,
      "outputs": [
        {
          "output_type": "execute_result",
          "data": {
            "text/plain": [
              "Credit reporting, credit repair services, or other personal consumer reports    92707\n",
              "Debt collection                                                                 86870\n",
              "Mortgage                                                                        53067\n",
              "Credit reporting                                                                31588\n",
              "Student loan                                                                    21842\n",
              "Credit card or prepaid card                                                     21443\n",
              "Credit card                                                                     18838\n",
              "Bank account or service                                                         14885\n",
              "Checking or savings account                                                     12906\n",
              "Consumer Loan                                                                    9474\n",
              "Vehicle loan or lease                                                            5766\n",
              "Money transfer, virtual currency, or money service                               5488\n",
              "Payday loan, title loan, or personal loan                                        4438\n",
              "Payday loan                                                                      1747\n",
              "Money transfers                                                                  1497\n",
              "Prepaid card                                                                     1450\n",
              "Other financial service                                                           292\n",
              "Virtual currency                                                                   16\n",
              "Name: Product, dtype: int64"
            ]
          },
          "metadata": {
            "tags": []
          },
          "execution_count": 6
        }
      ]
    },
    {
      "cell_type": "markdown",
      "metadata": {
        "id": "LML8fJ4xN9mp",
        "colab_type": "text"
      },
      "source": [
        "1. Consolidate “Credit reporting” into “Credit reporting, credit repair services, or other personal consumer reports”.\n",
        "2. Consolidate “Credit card” into “Credit card or prepaid card”.\n",
        "3. Consolidate “Payday loan” into “Payday loan, title loan, or personal loan”.\n",
        "4. Consolidate “Virtual currency” into “Money transfer, virtual currency, or money service”.\n",
        "5. “Other financial service” has very few number of complaints and it does not mean anything, so, I decide to remove it."
      ]
    },
    {
      "cell_type": "code",
      "metadata": {
        "id": "fEkb_9o08b0E",
        "colab_type": "code",
        "colab": {}
      },
      "source": [
        "data.loc[data['Product'] == 'Credit reporting', 'Product'] = 'Credit reporting, credit repair services, or other personal consumer reports'\n",
        "data.loc[data['Product'] == 'Credit card', 'Product'] = 'Credit card or prepaid card'\n",
        "data.loc[data['Product'] == 'Payday loan', 'Product'] = 'Payday loan, title loan, or personal loan'\n",
        "data.loc[data['Product'] == 'Virtual currency', 'Product'] = 'Money transfer, virtual currency, or money service'\n",
        "data = data[data.Product != 'Other financial service']"
      ],
      "execution_count": 0,
      "outputs": []
    },
    {
      "cell_type": "code",
      "metadata": {
        "id": "dQBNURPw8hFc",
        "colab_type": "code",
        "colab": {}
      },
      "source": [
        "plt.figure(figsize=(8,8))\n",
        "data['Product'].value_counts().sort_values(ascending=False).plot(kind='bar',  \n",
        "                                                                title='Number complaints in each product')"
      ],
      "execution_count": 0,
      "outputs": []
    },
    {
      "cell_type": "code",
      "metadata": {
        "id": "BZauFIWF9C1b",
        "colab_type": "code",
        "colab": {
          "base_uri": "https://localhost:8080/",
          "height": 206
        },
        "outputId": "d8af6ce3-1322-4fac-e0b6-392535b7a341"
      },
      "source": [
        "data=data.reset_index()\n",
        "data=data[col]\n",
        "data.head()"
      ],
      "execution_count": 20,
      "outputs": [
        {
          "output_type": "execute_result",
          "data": {
            "text/html": [
              "<div>\n",
              "<style scoped>\n",
              "    .dataframe tbody tr th:only-of-type {\n",
              "        vertical-align: middle;\n",
              "    }\n",
              "\n",
              "    .dataframe tbody tr th {\n",
              "        vertical-align: top;\n",
              "    }\n",
              "\n",
              "    .dataframe thead th {\n",
              "        text-align: right;\n",
              "    }\n",
              "</style>\n",
              "<table border=\"1\" class=\"dataframe\">\n",
              "  <thead>\n",
              "    <tr style=\"text-align: right;\">\n",
              "      <th></th>\n",
              "      <th>Product</th>\n",
              "      <th>Consumer complaint narrative</th>\n",
              "    </tr>\n",
              "  </thead>\n",
              "  <tbody>\n",
              "    <tr>\n",
              "      <th>0</th>\n",
              "      <td>Credit reporting, credit repair services, or o...</td>\n",
              "      <td>reached  credit bureaus one seem resolve issue...</td>\n",
              "    </tr>\n",
              "    <tr>\n",
              "      <th>1</th>\n",
              "      <td>Credit reporting, credit repair services, or o...</td>\n",
              "      <td>victim identity theft. personal information co...</td>\n",
              "    </tr>\n",
              "    <tr>\n",
              "      <th>2</th>\n",
              "      <td>Credit reporting, credit repair services, or o...</td>\n",
              "      <td>victim identity theft. personal information co...</td>\n",
              "    </tr>\n",
              "    <tr>\n",
              "      <th>3</th>\n",
              "      <td>Credit reporting, credit repair services, or o...</td>\n",
              "      <td>credit agencies accounts mine listed mine. vic...</td>\n",
              "    </tr>\n",
              "    <tr>\n",
              "      <th>4</th>\n",
              "      <td>Credit reporting, credit repair services, or o...</td>\n",
              "      <td>student loan thats discharge still showing cre...</td>\n",
              "    </tr>\n",
              "  </tbody>\n",
              "</table>\n",
              "</div>"
            ],
            "text/plain": [
              "                                             Product                       Consumer complaint narrative\n",
              "0  Credit reporting, credit repair services, or o...  reached  credit bureaus one seem resolve issue...\n",
              "1  Credit reporting, credit repair services, or o...  victim identity theft. personal information co...\n",
              "2  Credit reporting, credit repair services, or o...  victim identity theft. personal information co...\n",
              "3  Credit reporting, credit repair services, or o...  credit agencies accounts mine listed mine. vic...\n",
              "4  Credit reporting, credit repair services, or o...  student loan thats discharge still showing cre..."
            ]
          },
          "metadata": {
            "tags": []
          },
          "execution_count": 20
        }
      ]
    },
    {
      "cell_type": "code",
      "metadata": {
        "id": "pFk5OE7k8z-F",
        "colab_type": "code",
        "colab": {
          "base_uri": "https://localhost:8080/",
          "height": 54
        },
        "outputId": "7b0516b1-bfe4-4bc9-afe8-1a5cd0953700"
      },
      "source": [
        "#preprocessing/ cleaning data\n",
        "\n",
        "replace_by_space_re=re.compile(\"[/(){}\\[\\]\\|@,;]\")\n",
        "bad_symbols_re=re.compile(\"[^0-9a-z #+_]\")\n",
        "\n",
        "\n",
        "def clean_text(text):\n",
        "  text=text.lower()\n",
        "  text=replace_by_space_re.sub(\" \",text)\n",
        "  text=replace_by_space_re.sub(\"\",text)\n",
        "  text=text.replace(\"x\",\"\")\n",
        "  \n",
        "  text=\" \".join(word for word in text.split() if word not in STOPWORDS)\n",
        "  return text\n",
        "\n",
        "\n",
        "data[\"Consumer complaint narrative\"]=data[\"Consumer complaint narrative\"].apply(clean_text)\n",
        "data['Consumer complaint narrative']=data[\"Consumer complaint narrative\"].str.replace(\"\\d+\",\"\")\n"
      ],
      "execution_count": 12,
      "outputs": [
        {
          "output_type": "stream",
          "text": [
            "[nltk_data] Downloading package stopwords to /root/nltk_data...\n",
            "[nltk_data]   Unzipping corpora/stopwords.zip.\n"
          ],
          "name": "stdout"
        }
      ]
    },
    {
      "cell_type": "markdown",
      "metadata": {
        "id": "ck7io7AQNAX1",
        "colab_type": "text"
      },
      "source": [
        "1. Vectorize consumer complaints text, by turning each text into either a sequence of integers or into a vector.\n",
        "2. Limit the data set to the top 5,0000 words.\n",
        "3. Set the max number of words in each complaint at 250."
      ]
    },
    {
      "cell_type": "code",
      "metadata": {
        "id": "E_RkJPmq-25Z",
        "colab_type": "code",
        "colab": {
          "base_uri": "https://localhost:8080/",
          "height": 36
        },
        "outputId": "12725ac0-465f-4142-cff4-2889f0750015"
      },
      "source": [
        "\n",
        "max_words=50000\n",
        "max_sequence=250\n",
        "embedding_dim=100\n",
        "\n",
        "tokenizer=Tokenizer(num_words=max_words,filters='!\"#$%&()*+,-./:;<=>?@[\\]^_`{|}~', lower=True)\n",
        "tokenizer.fit_on_texts(data[\"Consumer complaint narrative\"].values)\n",
        "word_index=tokenizer.word_index\n"
      ],
      "execution_count": 13,
      "outputs": [
        {
          "output_type": "stream",
          "text": [
            "Using TensorFlow backend.\n"
          ],
          "name": "stderr"
        }
      ]
    },
    {
      "cell_type": "code",
      "metadata": {
        "id": "lCZX2FkKAIPu",
        "colab_type": "code",
        "colab": {}
      },
      "source": [
        "#Truncate and pad the input sequences so that they are all in the same length for modeling.\n",
        "X=tokenizer.texts_to_sequences(data[\"Consumer complaint narrative\"].values)\n",
        "X=pad_sequences(X, maxlen=max_sequence)"
      ],
      "execution_count": 0,
      "outputs": []
    },
    {
      "cell_type": "code",
      "metadata": {
        "id": "iRQbQtJfAt1H",
        "colab_type": "code",
        "colab": {
          "base_uri": "https://localhost:8080/",
          "height": 36
        },
        "outputId": "b6ee9abd-a63d-4ff5-fd39-bf3c73e3fd52"
      },
      "source": [
        "#Converting categorical labels to numbers.\n",
        "\n",
        "Y=pd.get_dummies(data[\"Product\"]).values\n",
        "print(\"shape of label tesnor\", Y.shape)"
      ],
      "execution_count": 15,
      "outputs": [
        {
          "output_type": "stream",
          "text": [
            "shape of label tesnor (384022, 13)\n"
          ],
          "name": "stdout"
        }
      ]
    },
    {
      "cell_type": "code",
      "metadata": {
        "id": "UldM2994BZAD",
        "colab_type": "code",
        "colab": {}
      },
      "source": [
        "#so now there are 13 labels in total to classify\n",
        "\n",
        "x_train,x_test,y_train,y_test=train_test_split(X,Y,test_size=0.2)"
      ],
      "execution_count": 0,
      "outputs": []
    },
    {
      "cell_type": "markdown",
      "metadata": {
        "id": "gETdo_YjMKWs",
        "colab_type": "text"
      },
      "source": [
        "#### Lets building simple LSTM model.\n",
        "lets build the model using keras Sequential model \n"
      ]
    },
    {
      "cell_type": "code",
      "metadata": {
        "id": "KFddnKxwBvxh",
        "colab_type": "code",
        "colab": {
          "base_uri": "https://localhost:8080/",
          "height": 223
        },
        "outputId": "0683eb15-d0cc-4bf3-f19a-157d2b907481"
      },
      "source": [
        "\n",
        "model=Sequential()\n",
        "model.add(Embedding(max_words,embedding_dim,input_length=X.shape[1]))\n",
        "model.add(LSTM(100,dropout=0.2,recurrent_dropout=0.2))\n",
        "model.add(Dense(13,activation=\"softmax\"))\n",
        "model.compile(loss=\"categorical_crossentropy\",optimizer=\"adam\",metrics=[\"accuracy\"])\n",
        "\n",
        "epochs=5\n",
        "batch_size=252\n",
        "history=model.fit(x_train,y_train,epochs=epochs,batch_size=batch_size,validation_split=0.2,callbacks=[EarlyStopping(monitor=\"val_loss\",patience=3,min_delta=0.0001)])\n"
      ],
      "execution_count": 19,
      "outputs": [
        {
          "output_type": "stream",
          "text": [
            "Train on 245773 samples, validate on 61444 samples\n",
            "Epoch 1/5\n",
            "245773/245773 [==============================] - 458s 2ms/step - loss: 1.0534 - acc: 0.6750 - val_loss: 0.7393 - val_acc: 0.7667\n",
            "Epoch 2/5\n",
            "245773/245773 [==============================] - 458s 2ms/step - loss: 0.6939 - acc: 0.7744 - val_loss: 0.6282 - val_acc: 0.7870\n",
            "Epoch 3/5\n",
            "245773/245773 [==============================] - 458s 2ms/step - loss: 0.5941 - acc: 0.7973 - val_loss: 0.5773 - val_acc: 0.7996\n",
            "Epoch 4/5\n",
            "245773/245773 [==============================] - 458s 2ms/step - loss: 0.5370 - acc: 0.8130 - val_loss: 0.5561 - val_acc: 0.8046\n",
            "Epoch 5/5\n",
            "245773/245773 [==============================] - 462s 2ms/step - loss: 0.4952 - acc: 0.8254 - val_loss: 0.5470 - val_acc: 0.8094\n"
          ],
          "name": "stdout"
        }
      ]
    },
    {
      "cell_type": "code",
      "metadata": {
        "id": "DvsdaV6rDa0n",
        "colab_type": "code",
        "colab": {
          "base_uri": "https://localhost:8080/",
          "height": 92
        },
        "outputId": "fbfaa823-06c7-4c5e-d1c1-bb2eeac0407a"
      },
      "source": [
        "accr = model.evaluate(x_test,y_test)\n",
        "print('Test set\\n  Loss: {:0.3f}\\n  Accuracy: {:0.3f}'.format(accr[0],accr[1]))\n"
      ],
      "execution_count": 21,
      "outputs": [
        {
          "output_type": "stream",
          "text": [
            "76805/76805 [==============================] - 381s 5ms/step\n",
            "Test set\n",
            "  Loss: 0.557\n",
            "  Accuracy: 0.805\n"
          ],
          "name": "stdout"
        }
      ]
    },
    {
      "cell_type": "code",
      "metadata": {
        "id": "cMsZPRgfGbl3",
        "colab_type": "code",
        "colab": {
          "base_uri": "https://localhost:8080/",
          "height": 281
        },
        "outputId": "afe37233-d231-4d2f-efe9-0d1014ce899b"
      },
      "source": [
        "plt.title('Loss')\n",
        "plt.plot(history.history['loss'], label='train')\n",
        "plt.plot(history.history['val_loss'], label='test')\n",
        "plt.legend()\n",
        "plt.show();"
      ],
      "execution_count": 22,
      "outputs": [
        {
          "output_type": "display_data",
          "data": {
            "image/png": "[encoded data removed]",
            "text/plain": [
              "<Figure size 432x288 with 1 Axes>"
            ]
          },
          "metadata": {
            "tags": []
          }
        }
      ]
    },
    {
      "cell_type": "code",
      "metadata": {
        "id": "OEwLhki8Gh4p",
        "colab_type": "code",
        "colab": {
          "base_uri": "https://localhost:8080/",
          "height": 281
        },
        "outputId": "0e7675ae-cd5a-497e-e264-02715f7e6267"
      },
      "source": [
        "plt.title('Accuracy')\n",
        "plt.plot(history.history['acc'], label='train')\n",
        "plt.plot(history.history['val_acc'], label='test')\n",
        "plt.legend()\n",
        "plt.show();"
      ],
      "execution_count": 23,
      "outputs": [
        {
          "output_type": "display_data",
          "data": {
            "image/png": "[encoded data removed]",
            "text/plain": [
              "<Figure size 432x288 with 1 Axes>"
            ]
          },
          "metadata": {
            "tags": []
          }
        }
      ]
    },
    {
      "cell_type": "markdown",
      "metadata": {
        "id": "c2NF1ZoXOpwS",
        "colab_type": "text"
      },
      "source": [
        "Lets check for with a new sample."
      ]
    },
    {
      "cell_type": "code",
      "metadata": {
        "id": "AU58pxQ_Okiv",
        "colab_type": "code",
        "colab": {
          "base_uri": "https://localhost:8080/",
          "height": 73
        },
        "outputId": "0fa7f5c8-76a5-4511-eedd-34c3ebf5fac8"
      },
      "source": [
        "new_complaint = ['I am a victim of identity theft and someone stole my identity and personal information to open up a Visa credit card account with Bank of America. The following Bank of America Visa credit card account do not belong to me : XXXX.']\n",
        "seq = tokenizer.texts_to_sequences(new_complaint)\n",
        "padded = pad_sequences(seq, maxlen=max_sequence)\n",
        "pred = model.predict(padded)\n",
        "labels = ['Credit reporting, credit repair services, or other personal consumer reports', 'Debt collection', 'Mortgage', 'Credit card or prepaid card', 'Student loan', 'Bank account or service', 'Checking or savings account', 'Consumer Loan', 'Payday loan, title loan, or personal loan', 'Vehicle loan or lease', 'Money transfer, virtual currency, or money service', 'Money transfers', 'Prepaid card']\n",
        "print(pred, labels[np.argmax(pred)])"
      ],
      "execution_count": 24,
      "outputs": [
        {
          "output_type": "stream",
          "text": [
            "[[2.5737792e-02 1.2240585e-02 3.1925705e-03 6.8739533e-01 2.2442664e-01\n",
            "  4.0211823e-02 1.2312459e-03 3.0785592e-04 6.7509606e-04 1.4341797e-03\n",
            "  2.4060376e-03 3.3677297e-04 4.0409900e-04]] Credit card or prepaid card\n"
          ],
          "name": "stdout"
        }
      ]
    },
    {
      "cell_type": "markdown",
      "metadata": {
        "id": "Afzlm1JFPn9Q",
        "colab_type": "text"
      },
      "source": [
        "we can improve the model by using pre-trianed embeddings like glove, etc.. \n",
        "You can find the improved model [here](https://github.com/Kalyankr/Insincere-questions-classification)"
      ]
    }
  ]
}