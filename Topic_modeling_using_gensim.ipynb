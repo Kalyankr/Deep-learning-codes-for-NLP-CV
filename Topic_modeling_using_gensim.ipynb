{
  "nbformat": 4,
  "nbformat_minor": 0,
  "metadata": {
    "colab": {
      "name": "Topic_modeling_using_gensim.ipynb",
      "version": "0.3.2",
      "provenance": []
    },
    "kernelspec": {
      "name": "python3",
      "display_name": "Python 3"
    }
  },
  "cells": [
    {
      "metadata": {
        "id": "Xf3GyyMuAZAg",
        "colab_type": "text"
      },
      "cell_type": "markdown",
      "source": [
        "In this Notebook, we will learn how to identity which topic is discussed in a document, called topic modelling. In particular, we will cover Latent Dirichlet Allocation (LDA): a widely used topic modelling technique. And we will apply LDA to convert set of research papers to a set of topics.\n",
        "\n",
        "Research paper topic modelling is an unsupervised machine learning method that helps us discover hidden semantic structures in a paper, that allows us to learn topic representations of papers in a corpus. The model can be applied to any kinds of labels on documents, such as tags on posts on the website."
      ]
    },
    {
      "metadata": {
        "id": "zEM5PTKoAyAl",
        "colab_type": "text"
      },
      "cell_type": "markdown",
      "source": [
        "**The Process**\n",
        "\n",
        "\n",
        "\n",
        "*  We pick the number of topics ahead of time even if we’re not sure what the topics are.\n",
        "*   Each document is represented as a distribution over topics.\n",
        "*   Each topic is represented as a distribution over words.\n",
        "\n",
        "\n",
        "\n",
        "\n",
        "\n",
        "\n",
        "\n",
        "\n",
        "\n",
        "\n",
        "\n",
        "\n",
        "\n",
        "\n",
        "\n",
        "\n",
        "\n",
        "\n"
      ]
    },
    {
      "metadata": {
        "id": "J9Np2lhWAPvd",
        "colab_type": "code",
        "colab": {}
      },
      "cell_type": "code",
      "source": [
        "# Text Cleaning\n",
        "\n",
        "import spacy\n",
        "spacy.load(\"en\")\n",
        "from spacy.lang.en import English\n",
        "parser=English()\n",
        "\n",
        "def tokenize(text):\n",
        "  lda_tokens=[]\n",
        "  tokens=parser(text)\n",
        "  for token in tokens:\n",
        "    if token.orth_.isspace():\n",
        "      continue\n",
        "    elif token.like_url:\n",
        "      lda_tokens.append(\"URL\")\n",
        "    elif token.orth_.startswith(\"@\"):\n",
        "      lda_tokens.append(\"SCREEN_NAME\")\n",
        "    else:\n",
        "      lda_tokens.append(token.lower_)\n",
        "  return lda_tokens"
      ],
      "execution_count": 0,
      "outputs": []
    },
    {
      "metadata": {
        "id": "2dga0phmEYwO",
        "colab_type": "text"
      },
      "cell_type": "markdown",
      "source": [
        "We use NLTK’s Wordnet to find the meanings of words, synonyms, antonyms, and more. In addition, we use WordNetLemmatizer to get the root word."
      ]
    },
    {
      "metadata": {
        "id": "uXC-rKmIBxEi",
        "colab_type": "code",
        "colab": {}
      },
      "cell_type": "code",
      "source": [
        "import nltk\n",
        "nltk.download(\"wordnet\")\n",
        "from nltk.corpus import wordnet as wn\n",
        "\n",
        "def get_lemma(word):\n",
        "  lemma=wn.morphy(word)\n",
        "  if lemma is None:\n",
        "    return word\n",
        "  else:\n",
        "    return lemma\n",
        "  \n",
        "from nltk.stem.wordnet import WordNetLemmatizer\n",
        "\n",
        "def get_lemma2(word):\n",
        "  return WordNetLemmatizer.lemmatize(word)"
      ],
      "execution_count": 0,
      "outputs": []
    },
    {
      "metadata": {
        "id": "GJVxk7FBE_7f",
        "colab_type": "code",
        "colab": {}
      },
      "cell_type": "code",
      "source": [
        "#filtering the stop words\n",
        "\n",
        "nltk.download(\"stopwords\")\n",
        "en_stop=set(nltk.corpus.stopwords.words(\"english\"))\n"
      ],
      "execution_count": 0,
      "outputs": []
    },
    {
      "metadata": {
        "id": "I72-AubpFT6i",
        "colab_type": "code",
        "colab": {}
      },
      "cell_type": "code",
      "source": [
        "#function to prepare the text for topic modelling:\n",
        "\n",
        "def preprocess_text(text):\n",
        "  tokens=tokenize(text)\n",
        "  tokens=[token for token in tokens if len(token)>4]\n",
        "  token=[token for token in tokens if token not in en_stop]\n",
        "  token=[get_lemma(token) for token in tokens]\n",
        "  return tokens"
      ],
      "execution_count": 0,
      "outputs": []
    },
    {
      "metadata": {
        "id": "ZfLJiKKBFvJ8",
        "colab_type": "code",
        "colab": {
          "base_uri": "https://localhost:8080/",
          "height": 434
        },
        "outputId": "3819876b-6750-473c-cd20-d92bc71b30a3"
      },
      "cell_type": "code",
      "source": [
        "import random \n",
        "text_data=[]\n",
        "with open(\"topic_modeling.csv\") as f:\n",
        "  for line in f:\n",
        "    tokens=preprocess_text(line)\n",
        "    if random.random()> .99:\n",
        "      print(tokens)\n",
        "      text_data.append(tokens)\n",
        "  "
      ],
      "execution_count": 8,
      "outputs": [
        {
          "output_type": "stream",
          "text": [
            "['memory', 'efficient', 'continuous', 'processor', 'wimax', 'application']\n",
            "['gesture', 'world', 'technology', 'estimation', 'system', 'unspecified', 'users', 'using', 'compact', 'speed', 'camera']\n",
            "['improved', 'decoder', 'extra', 'error', 'compensation']\n",
            "['utility', 'tweeted', 'search']\n",
            "['tuning', 'elliptic', 'filters', 'tuning', 'biquad']\n",
            "['logical', 'design', 'deductive', 'natural', 'language', 'consultable', 'bases']\n",
            "['augmented', 'reality', 'jockey']\n",
            "['sphere', 'unfolding', 'method', 'single', 'directional', 'shadow', 'mapping']\n",
            "['quiet', 'continuous', 'query', 'driven', 'index', 'tuning']\n",
            "['learning', 'classify', 'human', 'object', 'sketches']\n",
            "['7-decades', 'tunable', 'translinear', 'bicmos', '3-phase', 'sinusoidal', 'oscillator']\n",
            "['cache', 'cache']\n",
            "['external', 'schema', 'codasyl']\n",
            "['approximate', 'queries', 'streams', 'guaranteed', 'error', 'performance', 'bounds']\n",
            "['gimme', 'context', 'context', 'driven', 'automatic', 'semantic', 'annotation', 'pankow']\n",
            "['animated', 'series']\n",
            "['modeling', 'stability', 'continuous', 'sigma', 'delta', 'modulators']\n",
            "['internet', 'matter', 'missing', 'links', 'connectivity']\n",
            "['feasibility', 'study', 'based', 'equalizer', '112-gbit', 'optical', 'fiber', 'receivers']\n",
            "['pixel', 'level', 'image', 'fusion', 'scheme', 'based', 'linear', 'algebra']\n",
            "['optimization', 'based', 'control', 'multicast', 'network', 'coding']\n",
            "['kageo']\n",
            "['birds', 'system', 'flatbed', 'autostereoscopic', 'displays']\n",
            "['comments', 'paper', 'design', 'theory', 'practice']\n"
          ],
          "name": "stdout"
        }
      ]
    },
    {
      "metadata": {
        "id": "xnhzznZNGdDe",
        "colab_type": "text"
      },
      "cell_type": "markdown",
      "source": [
        "LDA with Gensim\n",
        "\n",
        "creating a dictionary from the data, then convert to bag-of-words corpus and save the dictionary and corpus for future use."
      ]
    },
    {
      "metadata": {
        "id": "B1a04_FlGPXf",
        "colab_type": "code",
        "colab": {}
      },
      "cell_type": "code",
      "source": [
        "from gensim import corpora\n",
        "dictionary = corpora.Dictionary(text_data)\n",
        "corpus = [dictionary.doc2bow(text) for text in text_data]\n",
        "\n",
        "import pickle\n",
        "pickle.dump(corpus, open('corpus.pkl', 'wb'))\n",
        "dictionary.save('dictionary.gensim')"
      ],
      "execution_count": 0,
      "outputs": []
    },
    {
      "metadata": {
        "id": "-wb3_BWwHHn2",
        "colab_type": "code",
        "colab": {}
      },
      "cell_type": "code",
      "source": [
        "import gensim\n",
        "n_topics=5\n",
        "lda=gensim.models.ldamodel.LdaModel(corpus,num_topics=n_topics,id2word=dictionary,passes=15)\n",
        "lda.save(\"model1.gensim\")\n",
        "topics=lda.print_topics(num_words=4)\n"
      ],
      "execution_count": 0,
      "outputs": []
    },
    {
      "metadata": {
        "id": "vaH73ClKH5ZC",
        "colab_type": "code",
        "colab": {
          "base_uri": "https://localhost:8080/",
          "height": 104
        },
        "outputId": "d422456f-2fd0-4a1b-93df-589c20da6b21"
      },
      "cell_type": "code",
      "source": [
        "for topic in topics:\n",
        "  print(topic)"
      ],
      "execution_count": 22,
      "outputs": [
        {
          "output_type": "stream",
          "text": [
            "(0, '0.047*\"tuning\" + 0.026*\"based\" + 0.026*\"coding\" + 0.026*\"optimization\"')\n",
            "(1, '0.057*\"context\" + 0.057*\"cache\" + 0.031*\"driven\" + 0.031*\"annotation\"')\n",
            "(2, '0.025*\"error\" + 0.025*\"unfolding\" + 0.025*\"3-phase\" + 0.025*\"directional\"')\n",
            "(3, '0.044*\"design\" + 0.024*\"based\" + 0.024*\"112-gbit\" + 0.024*\"optical\"')\n",
            "(4, '0.033*\"continuous\" + 0.033*\"system\" + 0.018*\"speed\" + 0.018*\"using\"')\n"
          ],
          "name": "stdout"
        }
      ]
    },
    {
      "metadata": {
        "id": "oFq6HAvJI5Tc",
        "colab_type": "text"
      },
      "cell_type": "markdown",
      "source": [
        "Topic 0 includes words like “tunning”, “based”, “coding” and “optimization”, it is definite a machine learning related topic\n",
        "\n",
        "Topic 3 includes words like “computer”, “design”, “graphics” and “gallery”, it is definite a graphic design related topic"
      ]
    },
    {
      "metadata": {
        "id": "yLA8fhkfJE6Y",
        "colab_type": "text"
      },
      "cell_type": "markdown",
      "source": [
        "Let’s try a new document:"
      ]
    },
    {
      "metadata": {
        "id": "ECclmz9HIptR",
        "colab_type": "code",
        "colab": {
          "base_uri": "https://localhost:8080/",
          "height": 52
        },
        "outputId": "c0942110-f2bf-48d5-dbb8-97494b240612"
      },
      "cell_type": "code",
      "source": [
        "new_doc = 'Practical Bayesian Optimization of Machine Learning Algorithms'\n",
        "new_doc = preprocess_text(new_doc)\n",
        "new_doc_bow = dictionary.doc2bow(new_doc)\n",
        "print(new_doc_bow)\n",
        "print(lda.get_document_topics(new_doc_bow))"
      ],
      "execution_count": 26,
      "outputs": [
        {
          "output_type": "stream",
          "text": [
            "[(52, 1), (109, 1)]\n",
            "[(0, 0.7332829), (1, 0.0666826), (2, 0.06667956), (3, 0.06667904), (4, 0.066675864)]\n"
          ],
          "name": "stdout"
        }
      ]
    },
    {
      "metadata": {
        "id": "-Zsh_H_NJrW6",
        "colab_type": "text"
      },
      "cell_type": "markdown",
      "source": [
        "Now we are asking LDA to find 3 topics in the data:"
      ]
    },
    {
      "metadata": {
        "id": "v3Nn3L4DJGty",
        "colab_type": "code",
        "colab": {
          "base_uri": "https://localhost:8080/",
          "height": 69
        },
        "outputId": "0e39e7a6-c906-4263-be1c-5d676e8d5231"
      },
      "cell_type": "code",
      "source": [
        "lda = gensim.models.ldamodel.LdaModel(corpus, num_topics = 3, id2word=dictionary, passes=15)\n",
        "lda.save('model3.gensim')\n",
        "topics = lda.print_topics(num_words=4)\n",
        "for topic in topics:\n",
        "    print(topic)"
      ],
      "execution_count": 31,
      "outputs": [
        {
          "output_type": "stream",
          "text": [
            "(0, '0.031*\"tuning\" + 0.031*\"cache\" + 0.018*\"continuous\" + 0.018*\"error\"')\n",
            "(1, '0.028*\"design\" + 0.016*\"system\" + 0.016*\"unspecified\" + 0.016*\"camera\"')\n",
            "(2, '0.026*\"based\" + 0.026*\"context\" + 0.015*\"driven\" + 0.015*\"error\"')\n"
          ],
          "name": "stdout"
        }
      ]
    },
    {
      "metadata": {
        "id": "mGIA6zFyKHR0",
        "colab_type": "text"
      },
      "cell_type": "markdown",
      "source": [
        "For top 10 topics"
      ]
    },
    {
      "metadata": {
        "id": "z42hw8m_JunW",
        "colab_type": "code",
        "colab": {
          "base_uri": "https://localhost:8080/",
          "height": 191
        },
        "outputId": "9ed04236-7aec-4eb3-dff3-101e2518b961"
      },
      "cell_type": "code",
      "source": [
        "lda = gensim.models.ldamodel.LdaModel(corpus, num_topics = 10, id2word=dictionary, passes=15)\n",
        "lda.save('model10.gensim')\n",
        "topics = lda.print_topics(num_words=4)\n",
        "for topic in topics:\n",
        "    print(topic)"
      ],
      "execution_count": 32,
      "outputs": [
        {
          "output_type": "stream",
          "text": [
            "(0, '0.030*\"7-decades\" + 0.030*\"receivers\" + 0.030*\"study\" + 0.030*\"search\"')\n",
            "(1, '0.106*\"cache\" + 0.055*\"human\" + 0.055*\"object\" + 0.055*\"learning\"')\n",
            "(2, '0.054*\"based\" + 0.028*\"users\" + 0.028*\"world\" + 0.028*\"compact\"')\n",
            "(3, '0.064*\"design\" + 0.033*\"deductive\" + 0.033*\"logical\" + 0.033*\"reality\"')\n",
            "(4, '0.096*\"tuning\" + 0.050*\"elliptic\" + 0.050*\"filters\" + 0.050*\"biquad\"')\n",
            "(5, '0.061*\"continuous\" + 0.061*\"stability\" + 0.061*\"modulators\" + 0.061*\"modeling\"')\n",
            "(6, '0.061*\"continuous\" + 0.061*\"driven\" + 0.061*\"query\" + 0.061*\"quiet\"')\n",
            "(7, '0.084*\"context\" + 0.044*\"system\" + 0.044*\"annotation\" + 0.044*\"displays\"')\n",
            "(8, '0.065*\"error\" + 0.065*\"decoder\" + 0.065*\"extra\" + 0.065*\"improved\"')\n",
            "(9, '0.050*\"shadow\" + 0.050*\"directional\" + 0.050*\"mapping\" + 0.050*\"external\"')\n"
          ],
          "name": "stdout"
        }
      ]
    },
    {
      "metadata": {
        "id": "PGwg29E8KQxw",
        "colab_type": "text"
      },
      "cell_type": "markdown",
      "source": [
        "pyLDAvis is designed to help users interpret the topics in a topic model that has been fit to a corpus of text data. The package extracts information from a fitted LDA topic model to inform an interactive web-based visualization."
      ]
    },
    {
      "metadata": {
        "id": "zNKugP-MKNye",
        "colab_type": "code",
        "colab": {}
      },
      "cell_type": "code",
      "source": [
        "!pip install pyLDAvis\n",
        "# Visualizing 5 topics:\n",
        "\n",
        "dictionary = gensim.corpora.Dictionary.load('dictionary.gensim')\n",
        "corpus = pickle.load(open('corpus.pkl', 'rb'))\n",
        "lda = gensim.models.ldamodel.LdaModel.load('model1.gensim')\n",
        "\n",
        "import pyLDAvis.gensim\n",
        "lda_display = pyLDAvis.gensim.prepare(lda, corpus, dictionary, sort_topics=False)\n",
        "pyLDAvis.display(lda_display)"
      ],
      "execution_count": 0,
      "outputs": []
    },
    {
      "metadata": {
        "id": "MsdMD_GZKyWo",
        "colab_type": "text"
      },
      "cell_type": "markdown",
      "source": [
        "Saliency: a measure of how much the term tells you about the topic.\n",
        "\n",
        "Relevance: a weighted average of the probability of the word given the topic and the word given the topic normalized by the probability of the topic.\n",
        "\n",
        "The size of the bubble measures the importance of the topics, relative to the data."
      ]
    },
    {
      "metadata": {
        "id": "0GDSnZQWKaGt",
        "colab_type": "code",
        "colab": {
          "base_uri": "https://localhost:8080/",
          "height": 1000
        },
        "outputId": "410e33c0-4c89-4b8c-d6c5-309c2b80d8f0"
      },
      "cell_type": "code",
      "source": [
        "#Visualizing 3 topics:\n",
        "lda3 = gensim.models.ldamodel.LdaModel.load('model3.gensim')\n",
        "lda_display3 = pyLDAvis.gensim.prepare(lda3, corpus, dictionary, sort_topics=False)\n",
        "pyLDAvis.display(lda_display3)"
      ],
      "execution_count": 36,
      "outputs": [
        {
          "output_type": "stream",
          "text": [
            "/usr/local/lib/python3.6/dist-packages/pyLDAvis/_prepare.py:257: FutureWarning: Sorting because non-concatenation axis is not aligned. A future version\n",
            "of pandas will change to not sort by default.\n",
            "\n",
            "To accept the future behavior, pass 'sort=False'.\n",
            "\n",
            "To retain the current behavior and silence the warning, pass 'sort=True'.\n",
            "\n",
            "  return pd.concat([default_term_info] + list(topic_dfs))\n"
          ],
          "name": "stderr"
        },
        {
          "output_type": "execute_result",
          "data": {
            "text/html": [
              "\n",
              "<link rel=\"stylesheet\" type=\"text/css\" href=\"https://cdn.rawgit.com/bmabey/pyLDAvis/files/ldavis.v1.0.0.css\">\n",
              "\n",
              "\n",
              "<div id=\"ldavis_el12621403942160513608542783315\"></div>\n",
              "<script type=\"text/javascript\">\n",
              "\n",
              "var ldavis_el12621403942160513608542783315_data = {\"mdsDat\": {\"x\": [-0.037073681156250905, -0.058496491142233015, 0.0955701722984839], \"y\": [0.07972437004267842, -0.06863877895805283, -0.011085591084625543], \"topics\": [1, 2, 3], \"cluster\": [1, 1, 1], \"Freq\": [27.28554916381836, 34.77471923828125, 37.939735412597656]}, \"tinfo\": {\"Category\": [\"Default\", \"Default\", \"Default\", \"Default\", \"Default\", \"Default\", \"Default\", \"Default\", \"Default\", \"Default\", \"Default\", \"Default\", \"Default\", \"Default\", \"Default\", \"Default\", \"Default\", \"Default\", \"Default\", \"Default\", \"Default\", \"Default\", \"Default\", \"Default\", \"Default\", \"Default\", \"Default\", \"Default\", \"Default\", \"Default\", \"Topic1\", \"Topic1\", \"Topic1\", \"Topic1\", \"Topic1\", \"Topic1\", \"Topic1\", \"Topic1\", \"Topic1\", \"Topic1\", \"Topic1\", \"Topic1\", \"Topic1\", \"Topic1\", \"Topic1\", \"Topic1\", \"Topic1\", \"Topic1\", \"Topic1\", \"Topic1\", \"Topic1\", \"Topic1\", \"Topic1\", \"Topic1\", \"Topic1\", \"Topic1\", \"Topic1\", \"Topic1\", \"Topic1\", \"Topic1\", \"Topic1\", \"Topic1\", \"Topic1\", \"Topic2\", \"Topic2\", \"Topic2\", \"Topic2\", \"Topic2\", \"Topic2\", \"Topic2\", \"Topic2\", \"Topic2\", \"Topic2\", \"Topic2\", \"Topic2\", \"Topic2\", \"Topic2\", \"Topic2\", \"Topic2\", \"Topic2\", \"Topic2\", \"Topic2\", \"Topic2\", \"Topic2\", \"Topic2\", \"Topic2\", \"Topic2\", \"Topic2\", \"Topic2\", \"Topic2\", \"Topic2\", \"Topic2\", \"Topic2\", \"Topic2\", \"Topic3\", \"Topic3\", \"Topic3\", \"Topic3\", \"Topic3\", \"Topic3\", \"Topic3\", \"Topic3\", \"Topic3\", \"Topic3\", \"Topic3\", \"Topic3\", \"Topic3\", \"Topic3\", \"Topic3\", \"Topic3\", \"Topic3\", \"Topic3\", \"Topic3\", \"Topic3\", \"Topic3\", \"Topic3\", \"Topic3\", \"Topic3\", \"Topic3\", \"Topic3\", \"Topic3\", \"Topic3\", \"Topic3\", \"Topic3\", \"Topic3\", \"Topic3\", \"Topic3\"], \"Freq\": [1.0, 2.0, 1.0, 1.0, 0.0, 0.0, 0.0, 0.0, 0.0, 0.0, 0.0, 0.0, 0.0, 0.0, 0.0, 0.0, 0.0, 0.0, 0.0, 0.0, 0.0, 0.0, 0.0, 0.0, 0.0, 0.0, 0.0, 0.0, 0.0, 0.0, 1.1007922887802124, 0.6293721795082092, 0.6293677091598511, 0.6293674111366272, 0.6293667554855347, 0.6293652653694153, 0.6293632984161377, 0.6293588876724243, 0.6293028593063354, 0.6293020844459534, 0.6293013095855713, 0.6292994618415833, 0.629299521446228, 0.6292412877082825, 0.6292394995689392, 0.6292321085929871, 0.6292319297790527, 0.6292307376861572, 0.6292301416397095, 0.6292248964309692, 0.6289517879486084, 0.6289498805999756, 0.6289408206939697, 0.6288488507270813, 0.6288431286811829, 0.6288184523582458, 0.6287878751754761, 0.6285790205001831, 0.628566324710846, 0.6271585822105408, 1.1101218461990356, 0.6335893273353577, 0.6294432282447815, 1.2551804780960083, 0.7172661423683167, 0.7172645330429077, 0.7172636985778809, 0.7172629833221436, 0.7172629237174988, 0.7172607779502869, 0.7172595858573914, 0.7172588109970093, 0.7172583341598511, 0.7172553539276123, 0.7171345949172974, 0.717132568359375, 0.7171286940574646, 0.7171273827552795, 0.7171269655227661, 0.7171252965927124, 0.7170576453208923, 0.7170493602752686, 0.7170434594154358, 0.7170417904853821, 0.7170417904853821, 0.7170177698135376, 0.7169997692108154, 0.7169780731201172, 0.716973066329956, 0.716971755027771, 0.7169714570045471, 0.716969907283783, 0.716969907283783, 0.7202492356300354, 1.2931009531021118, 0.7387564778327942, 0.7387561798095703, 0.738756000995636, 0.738755464553833, 0.7387547492980957, 0.7387524843215942, 0.7387522459030151, 0.7387513518333435, 0.7387492060661316, 0.7387462258338928, 0.7387416958808899, 0.7387280464172363, 0.7386907339096069, 0.738688588142395, 0.7386868596076965, 0.7386844158172607, 0.7386793494224548, 0.7386780977249146, 0.7386294603347778, 0.7386289834976196, 0.7386176586151123, 0.7386175990104675, 0.7386082410812378, 0.7385308742523193, 0.738529622554779, 0.7385262250900269, 0.7385236024856567, 0.7385214567184448, 0.7384536266326904, 1.2966265678405762, 0.7401326298713684, 0.7389336228370667], \"Term\": [\"cache\", \"tuning\", \"design\", \"context\", \"mapping\", \"shadow\", \"method\", \"sphere\", \"unfolding\", \"single\", \"directional\", \"application\", \"processor\", \"memory\", \"efficient\", \"wimax\", \"compensation\", \"extra\", \"filters\", \"decoder\", \"elliptic\", \"biquad\", \"improved\", \"jockey\", \"reality\", \"augmented\", \"flatbed\", \"birds\", \"displays\", \"autostereoscopic\", \"cache\", \"mapping\", \"shadow\", \"method\", \"sphere\", \"unfolding\", \"single\", \"directional\", \"application\", \"processor\", \"memory\", \"wimax\", \"efficient\", \"compensation\", \"extra\", \"filters\", \"decoder\", \"elliptic\", \"biquad\", \"improved\", \"jockey\", \"reality\", \"augmented\", \"flatbed\", \"birds\", \"displays\", \"autostereoscopic\", \"series\", \"animated\", \"kageo\", \"tuning\", \"continuous\", \"error\", \"design\", \"unspecified\", \"camera\", \"world\", \"users\", \"gesture\", \"technology\", \"compact\", \"using\", \"speed\", \"estimation\", \"language\", \"natural\", \"consultable\", \"deductive\", \"logical\", \"bases\", \"scheme\", \"level\", \"linear\", \"fusion\", \"pixel\", \"algebra\", \"image\", \"comments\", \"object\", \"practice\", \"sketches\", \"human\", \"classify\", \"system\", \"context\", \"optical\", \"equalizer\", \"feasibility\", \"112-gbit\", \"semantic\", \"receivers\", \"fiber\", \"pankow\", \"gimme\", \"study\", \"annotation\", \"automatic\", \"streams\", \"guaranteed\", \"queries\", \"performance\", \"bounds\", \"approximate\", \"network\", \"optimization\", \"coding\", \"multicast\", \"control\", \"matter\", \"connectivity\", \"missing\", \"links\", \"internet\", \"oscillator\", \"based\", \"driven\", \"error\"], \"Total\": [1.0, 2.0, 1.0, 1.0, 0.0, 0.0, 0.0, 0.0, 0.0, 0.0, 0.0, 0.0, 0.0, 0.0, 0.0, 0.0, 0.0, 0.0, 0.0, 0.0, 0.0, 0.0, 0.0, 0.0, 0.0, 0.0, 0.0, 0.0, 0.0, 0.0, 1.4662295579910278, 0.99386066198349, 0.9938614964485168, 0.9938614368438721, 0.9938615560531616, 0.9938618540763855, 0.9938620328903198, 0.9938628077507019, 0.9938714504241943, 0.9938716292381287, 0.9938717484474182, 0.9938720464706421, 0.9938721060752869, 0.9938814640045166, 0.9938817620277405, 0.993882417678833, 0.9938828945159912, 0.9938824772834778, 0.9938827753067017, 0.9938838481903076, 0.9939263463020325, 0.9939267635345459, 0.9939283728599548, 0.9939386248588562, 0.9939391613006592, 0.9939420223236084, 0.993946373462677, 0.9939848780632019, 0.9939867258071899, 0.9942042231559753, 2.0030581951141357, 2.085679054260254, 1.5481913089752197, 1.597818374633789, 1.0596961975097656, 1.059696078300476, 1.059696078300476, 1.0596956014633179, 1.0596956014633179, 1.0596957206726074, 1.0596961975097656, 1.059695839881897, 1.0596956014633179, 1.059695839881897, 1.0596896409988403, 1.0596892833709717, 1.0596892833709717, 1.0596891641616821, 1.0596890449523926, 1.0596892833709717, 1.0596802234649658, 1.059679388999939, 1.0596787929534912, 1.0596784353256226, 1.0596789121627808, 1.0596762895584106, 1.0596739053726196, 1.0596811771392822, 1.059680700302124, 1.0596809387207031, 1.0596809387207031, 1.059680461883545, 1.059680700302124, 1.5323476791381836, 1.6302425861358643, 1.0758918523788452, 1.0758918523788452, 1.0758917331695557, 1.0758914947509766, 1.0758919715881348, 1.0758912563323975, 1.0758914947509766, 1.0758919715881348, 1.0758914947509766, 1.0758910179138184, 1.075891375541687, 1.0758897066116333, 1.0758845806121826, 1.0758843421936035, 1.075884222984314, 1.0758841037750244, 1.0758838653564453, 1.0758832693099976, 1.0758800506591797, 1.0758804082870483, 1.0758789777755737, 1.0758790969848633, 1.075878381729126, 1.0758709907531738, 1.0758707523345947, 1.0758706331253052, 1.075870156288147, 1.0758700370788574, 1.0758795738220215, 2.168440341949463, 1.61402428150177, 1.5481913089752197], \"loglift\": [30.0, 29.0, 28.0, 27.0, 26.0, 25.0, 24.0, 23.0, 22.0, 21.0, 20.0, 19.0, 18.0, 17.0, 16.0, 15.0, 14.0, 13.0, 12.0, 11.0, 10.0, 9.0, 8.0, 7.0, 6.0, 5.0, 4.0, 3.0, 2.0, 1.0, 1.0120999813079834, 0.8418999910354614, 0.8418999910354614, 0.8418999910354614, 0.8418999910354614, 0.8418999910354614, 0.8418999910354614, 0.8418999910354614, 0.8417999744415283, 0.8417999744415283, 0.8417999744415283, 0.8417999744415283, 0.8417999744415283, 0.84170001745224, 0.84170001745224, 0.84170001745224, 0.84170001745224, 0.84170001745224, 0.84170001745224, 0.84170001745224, 0.8411999940872192, 0.8411999940872192, 0.8411999940872192, 0.8410000205039978, 0.8410000205039978, 0.8410000205039978, 0.8409000039100647, 0.8406000137329102, 0.840499997138977, 0.838100016117096, 0.7085999846458435, 0.10740000009536743, 0.39879998564720154, 0.8148999810218811, 0.6660000085830688, 0.6660000085830688, 0.6660000085830688, 0.6660000085830688, 0.6660000085830688, 0.6660000085830688, 0.6660000085830688, 0.6660000085830688, 0.6660000085830688, 0.6660000085830688, 0.6657999753952026, 0.6657999753952026, 0.6657999753952026, 0.6657999753952026, 0.6657999753952026, 0.6657999753952026, 0.6657000184059143, 0.6657000184059143, 0.6657000184059143, 0.6657000184059143, 0.6657000184059143, 0.6657000184059143, 0.6656000018119812, 0.6656000018119812, 0.6656000018119812, 0.6656000018119812, 0.6656000018119812, 0.6656000018119812, 0.6656000018119812, 0.3012999892234802, 0.737500011920929, 0.5932000279426575, 0.5932000279426575, 0.5932000279426575, 0.5932000279426575, 0.5932000279426575, 0.5932000279426575, 0.5932000279426575, 0.5932000279426575, 0.5932000279426575, 0.5932000279426575, 0.5932000279426575, 0.5932000279426575, 0.5932000279426575, 0.5931000113487244, 0.5931000113487244, 0.5931000113487244, 0.5931000113487244, 0.5931000113487244, 0.5931000113487244, 0.5931000113487244, 0.5931000113487244, 0.5931000113487244, 0.5929999947547913, 0.5928999781608582, 0.5928999781608582, 0.5928999781608582, 0.5928999781608582, 0.5928999781608582, 0.5928000211715698, 0.45489999651908875, 0.18950000405311584, 0.22949999570846558], \"logprob\": [30.0, 29.0, 28.0, 27.0, 26.0, 25.0, 24.0, 23.0, 22.0, 21.0, 20.0, 19.0, 18.0, 17.0, 16.0, 15.0, 14.0, 13.0, 12.0, 11.0, 10.0, 9.0, 8.0, 7.0, 6.0, 5.0, 4.0, 3.0, 2.0, 1.0, -3.4804000854492188, -4.039400100708008, -4.039400100708008, -4.039400100708008, -4.039400100708008, -4.039400100708008, -4.039400100708008, -4.039400100708008, -4.0395002365112305, -4.0395002365112305, -4.0395002365112305, -4.0395002365112305, -4.0395002365112305, -4.039599895477295, -4.039599895477295, -4.039599895477295, -4.039599895477295, -4.039599895477295, -4.039599895477295, -4.039700031280518, -4.04010009765625, -4.04010009765625, -4.04010009765625, -4.040200233459473, -4.040299892425537, -4.040299892425537, -4.040299892425537, -4.0406999588012695, -4.0406999588012695, -4.042900085449219, -3.47189998626709, -4.032700061798096, -4.039299964904785, -3.591599941253662, -4.151199817657471, -4.151199817657471, -4.151199817657471, -4.151199817657471, -4.151199817657471, -4.151199817657471, -4.151199817657471, -4.151199817657471, -4.151199817657471, -4.151199817657471, -4.151400089263916, -4.151400089263916, -4.151400089263916, -4.151400089263916, -4.151400089263916, -4.151400089263916, -4.151500225067139, -4.151500225067139, -4.151500225067139, -4.151500225067139, -4.151500225067139, -4.151599884033203, -4.151599884033203, -4.151599884033203, -4.151599884033203, -4.151599884033203, -4.151599884033203, -4.151599884033203, -4.151599884033203, -4.14709997177124, -3.6489999294281006, -4.208799839019775, -4.208799839019775, -4.208799839019775, -4.208799839019775, -4.208799839019775, -4.208799839019775, -4.208799839019775, -4.208799839019775, -4.208799839019775, -4.208799839019775, -4.208799839019775, -4.208899974822998, -4.208899974822998, -4.208899974822998, -4.208899974822998, -4.208899974822998, -4.208899974822998, -4.208899974822998, -4.209000110626221, -4.209000110626221, -4.209000110626221, -4.209000110626221, -4.209000110626221, -4.209099769592285, -4.209099769592285, -4.209099769592285, -4.209099769592285, -4.209099769592285, -4.209199905395508, -3.6463000774383545, -4.206999778747559, -4.208600044250488]}, \"token.table\": {\"Topic\": [3, 2, 1, 3, 1, 3, 1, 3, 1, 2, 3, 2, 1, 1, 3, 1, 2, 2, 3, 2, 2, 1, 3, 2, 3, 1, 2, 3, 3, 1, 2, 2, 1, 1, 2, 3, 1, 1, 3, 1, 3, 2, 1, 3, 3, 1, 1, 2, 2, 3, 3, 2, 2, 1, 3, 1, 1, 2, 2, 2, 3, 2, 1, 3, 1, 1, 3, 3, 2, 3, 2, 3, 3, 3, 3, 3, 2, 2, 1, 3, 1, 3, 2, 3, 1, 1, 1, 2, 2, 1, 3, 3, 1, 2, 2, 1, 2, 1, 2, 2, 2, 1, 2], \"Freq\": [0.9294617772102356, 0.9436843991279602, 1.006049633026123, 0.9294618368148804, 1.0061663389205933, 0.9294688701629639, 1.0061087608337402, 0.9294633269309998, 1.006090521812439, 0.46116095781326294, 0.46116095781326294, 0.9436728358268738, 1.0061548948287964, 1.0060977935791016, 0.9294683337211609, 0.68202143907547, 0.9436668157577515, 0.943680465221405, 0.9294725656509399, 0.9436800479888916, 0.9436666965484619, 1.0061562061309814, 0.9294796586036682, 0.9436728358268738, 0.6134056448936462, 0.4794601500034332, 0.4794601500034332, 0.4794601500034332, 0.9294731020927429, 1.0061547756195068, 0.9436729550361633, 0.6258533596992493, 1.0061750411987305, 1.0060949325561523, 0.6195693612098694, 0.6195693612098694, 1.006165623664856, 1.0061551332473755, 0.9294614195823669, 0.6459150314331055, 0.6459150314331055, 0.9436669945716858, 1.0061558485031128, 0.9294615387916565, 0.9294617772102356, 1.006155252456665, 1.0060983896255493, 0.9436824917793274, 0.9436672329902649, 0.9294617772102356, 0.9294679164886475, 0.9436807036399841, 0.9436865448951721, 1.0061538219451904, 0.9294803142547607, 1.0061107873916626, 1.0058295726776123, 0.9436725378036499, 0.9436816573143005, 0.9436821937561035, 0.9294801950454712, 0.9436730742454529, 1.006177306175232, 0.9294794797897339, 1.0061659812927246, 1.006176471710205, 0.9294797778129578, 0.9294724464416504, 0.9436728358268738, 0.9294716715812683, 0.943680465221405, 0.9294614195823669, 0.9294713139533997, 0.929472029209137, 0.9294613599777222, 0.9294681549072266, 0.943682074546814, 0.9436802864074707, 1.0061661005020142, 0.929468035697937, 1.0061103105545044, 0.9294619560241699, 0.9436809420585632, 0.9294613599777222, 1.0060515403747559, 1.006176471710205, 1.0061758756637573, 0.9436802864074707, 0.9436672329902649, 1.0061763525009155, 0.9294677376747131, 0.929462194442749, 0.6525934338569641, 0.6525934338569641, 0.9436671137809753, 0.4992366135120392, 0.4992366135120392, 1.0061761140823364, 0.9436666965484619, 0.9436672329902649, 0.9436669945716858, 1.0061657428741455, 0.9436668157577515], \"Term\": [\"112-gbit\", \"algebra\", \"animated\", \"annotation\", \"application\", \"approximate\", \"augmented\", \"automatic\", \"autostereoscopic\", \"based\", \"based\", \"bases\", \"biquad\", \"birds\", \"bounds\", \"cache\", \"camera\", \"classify\", \"coding\", \"comments\", \"compact\", \"compensation\", \"connectivity\", \"consultable\", \"context\", \"continuous\", \"continuous\", \"continuous\", \"control\", \"decoder\", \"deductive\", \"design\", \"directional\", \"displays\", \"driven\", \"driven\", \"efficient\", \"elliptic\", \"equalizer\", \"error\", \"error\", \"estimation\", \"extra\", \"feasibility\", \"fiber\", \"filters\", \"flatbed\", \"fusion\", \"gesture\", \"gimme\", \"guaranteed\", \"human\", \"image\", \"improved\", \"internet\", \"jockey\", \"kageo\", \"language\", \"level\", \"linear\", \"links\", \"logical\", \"mapping\", \"matter\", \"memory\", \"method\", \"missing\", \"multicast\", \"natural\", \"network\", \"object\", \"optical\", \"optimization\", \"oscillator\", \"pankow\", \"performance\", \"pixel\", \"practice\", \"processor\", \"queries\", \"reality\", \"receivers\", \"scheme\", \"semantic\", \"series\", \"shadow\", \"single\", \"sketches\", \"speed\", \"sphere\", \"streams\", \"study\", \"system\", \"system\", \"technology\", \"tuning\", \"tuning\", \"unfolding\", \"unspecified\", \"users\", \"using\", \"wimax\", \"world\"]}, \"R\": 30, \"lambda.step\": 0.01, \"plot.opts\": {\"xlab\": \"PC1\", \"ylab\": \"PC2\"}, \"topic.order\": [1, 2, 3]};\n",
              "\n",
              "function LDAvis_load_lib(url, callback){\n",
              "  var s = document.createElement('script');\n",
              "  s.src = url;\n",
              "  s.async = true;\n",
              "  s.onreadystatechange = s.onload = callback;\n",
              "  s.onerror = function(){console.warn(\"failed to load library \" + url);};\n",
              "  document.getElementsByTagName(\"head\")[0].appendChild(s);\n",
              "}\n",
              "\n",
              "if(typeof(LDAvis) !== \"undefined\"){\n",
              "   // already loaded: just create the visualization\n",
              "   !function(LDAvis){\n",
              "       new LDAvis(\"#\" + \"ldavis_el12621403942160513608542783315\", ldavis_el12621403942160513608542783315_data);\n",
              "   }(LDAvis);\n",
              "}else if(typeof define === \"function\" && define.amd){\n",
              "   // require.js is available: use it to load d3/LDAvis\n",
              "   require.config({paths: {d3: \"https://cdnjs.cloudflare.com/ajax/libs/d3/3.5.5/d3.min\"}});\n",
              "   require([\"d3\"], function(d3){\n",
              "      window.d3 = d3;\n",
              "      LDAvis_load_lib(\"https://cdn.rawgit.com/bmabey/pyLDAvis/files/ldavis.v1.0.0.js\", function(){\n",
              "        new LDAvis(\"#\" + \"ldavis_el12621403942160513608542783315\", ldavis_el12621403942160513608542783315_data);\n",
              "      });\n",
              "    });\n",
              "}else{\n",
              "    // require.js not available: dynamically load d3 & LDAvis\n",
              "    LDAvis_load_lib(\"https://cdnjs.cloudflare.com/ajax/libs/d3/3.5.5/d3.min.js\", function(){\n",
              "         LDAvis_load_lib(\"https://cdn.rawgit.com/bmabey/pyLDAvis/files/ldavis.v1.0.0.js\", function(){\n",
              "                 new LDAvis(\"#\" + \"ldavis_el12621403942160513608542783315\", ldavis_el12621403942160513608542783315_data);\n",
              "            })\n",
              "         });\n",
              "}\n",
              "</script>"
            ],
            "text/plain": [
              "<IPython.core.display.HTML object>"
            ]
          },
          "metadata": {
            "tags": []
          },
          "execution_count": 36
        }
      ]
    },
    {
      "metadata": {
        "id": "TTI4nB25K3Je",
        "colab_type": "code",
        "colab": {
          "base_uri": "https://localhost:8080/",
          "height": 1000
        },
        "outputId": "3638c580-d55b-483f-f739-2ff8d00b3ea7"
      },
      "cell_type": "code",
      "source": [
        "#Visualizing 10 topics:\n",
        "lda10 = gensim.models.ldamodel.LdaModel.load('model10.gensim')\n",
        "lda_display10 = pyLDAvis.gensim.prepare(lda10, corpus, dictionary, sort_topics=False)\n",
        "pyLDAvis.display(lda_display10)"
      ],
      "execution_count": 37,
      "outputs": [
        {
          "output_type": "stream",
          "text": [
            "/usr/local/lib/python3.6/dist-packages/pyLDAvis/_prepare.py:257: FutureWarning: Sorting because non-concatenation axis is not aligned. A future version\n",
            "of pandas will change to not sort by default.\n",
            "\n",
            "To accept the future behavior, pass 'sort=False'.\n",
            "\n",
            "To retain the current behavior and silence the warning, pass 'sort=True'.\n",
            "\n",
            "  return pd.concat([default_term_info] + list(topic_dfs))\n"
          ],
          "name": "stderr"
        },
        {
          "output_type": "execute_result",
          "data": {
            "text/html": [
              "\n",
              "<link rel=\"stylesheet\" type=\"text/css\" href=\"https://cdn.rawgit.com/bmabey/pyLDAvis/files/ldavis.v1.0.0.css\">\n",
              "\n",
              "\n",
              "<div id=\"ldavis_el1262140394073808472943528287\"></div>\n",
              "<script type=\"text/javascript\">\n",
              "\n",
              "var ldavis_el1262140394073808472943528287_data = {\"mdsDat\": {\"x\": [-0.0658716273450512, 0.0017363169372287732, -0.14308567287407278, 0.17062517600237503, 0.01048161088759854, 0.01873064655043238, 0.0192474920309082, -0.009931626445761716, -0.008311758055217406, 0.006379442311560379], \"y\": [0.1799559223562917, 0.0017421320020967754, -0.12473515989934102, -0.03499229773829414, 7.460836967424567e-05, -0.003485554781887671, -0.007062163620007015, -0.03242522185806233, 0.01915375249187026, 0.0017739826776594317], \"topics\": [1, 2, 3, 4, 5, 6, 7, 8, 9, 10], \"cluster\": [1, 1, 1, 1, 1, 1, 1, 1, 1, 1], \"Freq\": [17.992839813232422, 6.0759735107421875, 19.565006256103516, 14.995447158813477, 7.857149124145508, 5.421670436859131, 5.421665191650391, 10.104809761047363, 4.67648983001709, 7.888949871063232]}, \"tinfo\": {\"Category\": [\"Default\", \"Default\", \"Default\", \"Default\", \"Default\", \"Default\", \"Default\", \"Default\", \"Default\", \"Default\", \"Default\", \"Default\", \"Default\", \"Default\", \"Default\", \"Default\", \"Default\", \"Default\", \"Default\", \"Default\", \"Default\", \"Default\", \"Default\", \"Default\", \"Default\", \"Default\", \"Default\", \"Default\", \"Default\", \"Default\", \"Topic1\", \"Topic1\", \"Topic1\", \"Topic1\", \"Topic1\", \"Topic1\", \"Topic1\", \"Topic1\", \"Topic1\", \"Topic1\", \"Topic1\", \"Topic1\", \"Topic1\", \"Topic1\", \"Topic1\", \"Topic1\", \"Topic1\", \"Topic1\", \"Topic1\", \"Topic1\", \"Topic1\", \"Topic1\", \"Topic1\", \"Topic1\", \"Topic1\", \"Topic1\", \"Topic1\", \"Topic1\", \"Topic1\", \"Topic1\", \"Topic1\", \"Topic1\", \"Topic1\", \"Topic1\", \"Topic1\", \"Topic1\", \"Topic1\", \"Topic1\", \"Topic1\", \"Topic1\", \"Topic2\", \"Topic2\", \"Topic2\", \"Topic2\", \"Topic2\", \"Topic2\", \"Topic2\", \"Topic2\", \"Topic2\", \"Topic2\", \"Topic2\", \"Topic2\", \"Topic2\", \"Topic2\", \"Topic2\", \"Topic2\", \"Topic2\", \"Topic2\", \"Topic2\", \"Topic2\", \"Topic2\", \"Topic2\", \"Topic2\", \"Topic2\", \"Topic2\", \"Topic2\", \"Topic2\", \"Topic2\", \"Topic2\", \"Topic2\", \"Topic2\", \"Topic2\", \"Topic2\", \"Topic2\", \"Topic2\", \"Topic2\", \"Topic2\", \"Topic2\", \"Topic2\", \"Topic2\", \"Topic2\", \"Topic2\", \"Topic2\", \"Topic2\", \"Topic2\", \"Topic2\", \"Topic2\", \"Topic2\", \"Topic2\", \"Topic2\", \"Topic2\", \"Topic3\", \"Topic3\", \"Topic3\", \"Topic3\", \"Topic3\", \"Topic3\", \"Topic3\", \"Topic3\", \"Topic3\", \"Topic3\", \"Topic3\", \"Topic3\", \"Topic3\", \"Topic3\", \"Topic3\", \"Topic3\", \"Topic3\", \"Topic3\", \"Topic3\", \"Topic3\", \"Topic3\", \"Topic3\", \"Topic3\", \"Topic3\", \"Topic3\", \"Topic3\", \"Topic3\", \"Topic3\", \"Topic3\", \"Topic3\", \"Topic3\", \"Topic3\", \"Topic3\", \"Topic3\", \"Topic4\", \"Topic4\", \"Topic4\", \"Topic4\", \"Topic4\", \"Topic4\", \"Topic4\", \"Topic4\", \"Topic4\", \"Topic4\", \"Topic4\", \"Topic4\", \"Topic4\", \"Topic4\", \"Topic4\", \"Topic4\", \"Topic4\", \"Topic4\", \"Topic4\", \"Topic4\", \"Topic4\", \"Topic4\", \"Topic4\", \"Topic4\", \"Topic4\", \"Topic4\", \"Topic4\", \"Topic4\", \"Topic4\", \"Topic4\", \"Topic4\", \"Topic4\", \"Topic4\", \"Topic4\", \"Topic4\", \"Topic4\", \"Topic4\", \"Topic4\", \"Topic4\", \"Topic4\", \"Topic4\", \"Topic5\", \"Topic5\", \"Topic5\", \"Topic5\", \"Topic5\", \"Topic5\", \"Topic5\", \"Topic5\", \"Topic5\", \"Topic5\", \"Topic5\", \"Topic5\", \"Topic5\", \"Topic5\", \"Topic5\", \"Topic5\", \"Topic5\", \"Topic5\", \"Topic5\", \"Topic5\", \"Topic5\", \"Topic5\", \"Topic5\", \"Topic5\", \"Topic5\", \"Topic5\", \"Topic5\", \"Topic5\", \"Topic5\", \"Topic5\", \"Topic5\", \"Topic5\", \"Topic5\", \"Topic5\", \"Topic5\", \"Topic5\", \"Topic5\", \"Topic5\", \"Topic5\", \"Topic5\", \"Topic5\", \"Topic5\", \"Topic5\", \"Topic5\", \"Topic5\", \"Topic5\", \"Topic5\", \"Topic6\", \"Topic6\", \"Topic6\", \"Topic6\", \"Topic6\", \"Topic6\", \"Topic6\", \"Topic6\", \"Topic6\", \"Topic6\", \"Topic6\", \"Topic6\", \"Topic6\", \"Topic6\", \"Topic6\", \"Topic6\", \"Topic6\", \"Topic6\", \"Topic6\", \"Topic6\", \"Topic6\", \"Topic6\", \"Topic6\", \"Topic6\", \"Topic6\", \"Topic6\", \"Topic6\", \"Topic6\", \"Topic6\", \"Topic6\", \"Topic6\", \"Topic6\", \"Topic6\", \"Topic6\", \"Topic6\", \"Topic6\", \"Topic6\", \"Topic6\", \"Topic6\", \"Topic6\", \"Topic6\", \"Topic6\", \"Topic6\", \"Topic6\", \"Topic6\", \"Topic6\", \"Topic6\", \"Topic6\", \"Topic7\", \"Topic7\", \"Topic7\", \"Topic7\", \"Topic7\", \"Topic7\", \"Topic7\", \"Topic7\", \"Topic7\", \"Topic7\", \"Topic7\", \"Topic7\", \"Topic7\", \"Topic7\", \"Topic7\", \"Topic7\", \"Topic7\", \"Topic7\", \"Topic7\", \"Topic7\", \"Topic7\", \"Topic7\", \"Topic7\", \"Topic7\", \"Topic7\", \"Topic7\", \"Topic7\", \"Topic7\", \"Topic7\", \"Topic7\", \"Topic7\", \"Topic7\", \"Topic7\", \"Topic7\", \"Topic7\", \"Topic7\", \"Topic7\", \"Topic7\", \"Topic7\", \"Topic7\", \"Topic7\", \"Topic7\", \"Topic7\", \"Topic7\", \"Topic7\", \"Topic7\", \"Topic7\", \"Topic7\", \"Topic7\", \"Topic7\", \"Topic8\", \"Topic8\", \"Topic8\", \"Topic8\", \"Topic8\", \"Topic8\", \"Topic8\", \"Topic8\", \"Topic8\", \"Topic8\", \"Topic8\", \"Topic8\", \"Topic8\", \"Topic8\", \"Topic8\", \"Topic8\", \"Topic8\", \"Topic8\", \"Topic8\", \"Topic8\", \"Topic8\", \"Topic8\", \"Topic8\", \"Topic8\", \"Topic8\", \"Topic8\", \"Topic8\", \"Topic8\", \"Topic8\", \"Topic8\", \"Topic8\", \"Topic8\", \"Topic8\", \"Topic8\", \"Topic8\", \"Topic8\", \"Topic8\", \"Topic8\", \"Topic8\", \"Topic8\", \"Topic8\", \"Topic8\", \"Topic8\", \"Topic8\", \"Topic8\", \"Topic8\", \"Topic8\", \"Topic9\", \"Topic9\", \"Topic9\", \"Topic9\", \"Topic9\", \"Topic9\", \"Topic9\", \"Topic9\", \"Topic9\", \"Topic9\", \"Topic9\", \"Topic9\", \"Topic9\", \"Topic9\", \"Topic9\", \"Topic9\", \"Topic9\", \"Topic9\", \"Topic9\", \"Topic9\", \"Topic9\", \"Topic9\", \"Topic9\", \"Topic9\", \"Topic9\", \"Topic9\", \"Topic9\", \"Topic9\", \"Topic9\", \"Topic9\", \"Topic9\", \"Topic9\", \"Topic9\", \"Topic9\", \"Topic9\", \"Topic9\", \"Topic9\", \"Topic9\", \"Topic9\", \"Topic9\", \"Topic9\", \"Topic9\", \"Topic9\", \"Topic9\", \"Topic9\", \"Topic9\", \"Topic9\", \"Topic10\", \"Topic10\", \"Topic10\", \"Topic10\", \"Topic10\", \"Topic10\", \"Topic10\", \"Topic10\", \"Topic10\", \"Topic10\", \"Topic10\", \"Topic10\", \"Topic10\", \"Topic10\", \"Topic10\", \"Topic10\", \"Topic10\", \"Topic10\", \"Topic10\", \"Topic10\", \"Topic10\", \"Topic10\", \"Topic10\", \"Topic10\", \"Topic10\", \"Topic10\", \"Topic10\", \"Topic10\", \"Topic10\", \"Topic10\", \"Topic10\", \"Topic10\", \"Topic10\", \"Topic10\", \"Topic10\", \"Topic10\", \"Topic10\", \"Topic10\", \"Topic10\", \"Topic10\", \"Topic10\", \"Topic10\", \"Topic10\", \"Topic10\"], \"Freq\": [1.0, 1.0, 1.0, 1.0, 1.0, 1.0, 0.0, 0.0, 0.0, 0.0, 0.0, 0.0, 0.0, 0.0, 0.0, 0.0, 0.0, 0.0, 1.0, 0.0, 0.0, 0.0, 0.0, 0.0, 0.0, 0.0, 0.0, 0.0, 0.0, 0.0, 0.7026475667953491, 0.7026475667953491, 0.7026475667953491, 0.7026475667953491, 0.7026475667953491, 0.7026475667953491, 0.7026475667953491, 0.7026476860046387, 0.7026476860046387, 0.7026475667953491, 0.7026475667953491, 0.7026475667953491, 0.7026475667953491, 0.7026475667953491, 0.7026475667953491, 0.7026475667953491, 0.7026475667953491, 0.7026476860046387, 0.7026475667953491, 0.7026475667953491, 0.7026475667953491, 0.7026475667953491, 0.7026475667953491, 0.702643096446991, 0.7026443481445312, 0.06387707591056824, 0.06387707591056824, 0.06387707591056824, 0.06387707591056824, 0.06387707591056824, 0.06387707591056824, 0.06387707591056824, 0.06387707591056824, 0.06387707591056824, 0.06387707591056824, 0.06387712061405182, 0.06387707591056824, 0.06387707591056824, 0.06387707591056824, 0.06387709081172943, 0.8399497270584106, 0.4399736523628235, 0.4399736523628235, 0.4399736523628235, 0.4399736523628235, 0.4399736523628235, 0.4399734139442444, 0.03999761864542961, 0.03999761492013931, 0.03999761492013931, 0.03999761492013931, 0.03999761492013931, 0.03999761492013931, 0.03999761492013931, 0.03999761864542961, 0.03999761864542961, 0.03999761492013931, 0.03999761492013931, 0.03999761492013931, 0.03999761864542961, 0.03999761864542961, 0.03999761864542961, 0.03999761492013931, 0.03999761492013931, 0.03999761492013931, 0.03999761492013931, 0.03999761492013931, 0.03999762237071991, 0.03999762237071991, 0.03999761864542961, 0.03999761492013931, 0.03999761492013931, 0.03999761492013931, 0.03999761492013931, 0.03999761492013931, 0.03999762237071991, 0.03999762237071991, 0.03999762237071991, 0.03999762609601021, 0.03999762609601021, 0.03999762237071991, 0.03999762237071991, 0.03999762237071991, 0.03999762609601021, 0.03999762609601021, 0.03999762237071991, 0.03999761492013931, 0.03999761864542961, 0.03999761492013931, 0.03999761492013931, 0.03999761492013931, 0.7247604131698608, 0.7247604727745056, 0.7247604727745056, 0.7247604727745056, 0.7247604727745056, 0.7247604727745056, 0.7247604131698608, 0.7247604131698608, 0.7247604727745056, 0.7247604131698608, 0.7247604131698608, 0.7247604131698608, 0.7247604131698608, 0.7247604131698608, 0.7247604131698608, 0.7247604131698608, 0.7247604131698608, 0.7247604727745056, 0.7247604727745056, 0.7247604131698608, 0.7247604727745056, 0.7247604131698608, 0.7247604131698608, 0.7247604727745056, 1.3836368322372437, 0.7247602939605713, 0.06588733196258545, 0.06588733196258545, 0.06588733196258545, 0.06588733196258545, 0.06588736921548843, 0.06588733196258545, 0.06588733941316605, 0.06588733196258545, 1.2538751363754272, 0.6567917466163635, 0.6567917466163635, 0.6567917466163635, 0.6567917466163635, 0.6567917466163635, 0.6567917466163635, 0.6567917466163635, 0.6567917466163635, 0.6567917466163635, 0.6567917466163635, 0.6567917466163635, 0.6567917466163635, 0.6567917466163635, 0.6567917466163635, 0.6567916870117188, 0.6567917466163635, 0.6567917466163635, 0.6567916870117188, 0.6567835211753845, 0.0597083605825901, 0.059708356857299805, 0.059708356857299805, 0.059708356857299805, 0.059708356857299805, 0.059708356857299805, 0.059708356857299805, 0.059708356857299805, 0.059708356857299805, 0.059708356857299805, 0.059708356857299805, 0.059708356857299805, 0.05970839783549309, 0.0597083605825901, 0.0597083643078804, 0.0597083605825901, 0.0597083605825901, 0.0597083680331707, 0.0597083643078804, 0.0597083605825901, 0.0597083605825901, 0.9869889616966248, 0.5169931054115295, 0.5169931054115295, 0.5169931054115295, 0.5169931054115295, 0.5169931054115295, 0.5169931054115295, 0.5169931054115295, 0.5169931054115295, 0.046999383717775345, 0.046999383717775345, 0.046999383717775345, 0.046999383717775345, 0.046999383717775345, 0.046999383717775345, 0.046999383717775345, 0.046999383717775345, 0.046999383717775345, 0.046999383717775345, 0.046999383717775345, 0.046999383717775345, 0.04699942469596863, 0.046999383717775345, 0.046999383717775345, 0.046999383717775345, 0.046999383717775345, 0.046999383717775345, 0.046999383717775345, 0.046999383717775345, 0.046999383717775345, 0.046999383717775345, 0.046999383717775345, 0.046999383717775345, 0.046999383717775345, 0.04699939116835594, 0.04699939116835594, 0.04699939116835594, 0.04699939116835594, 0.04699939116835594, 0.04699939116835594, 0.04699939861893654, 0.04699939489364624, 0.04699939489364624, 0.046999383717775345, 0.046999383717775345, 0.046999383717775345, 0.046999383717775345, 0.43645939230918884, 0.43645939230918884, 0.43645939230918884, 0.43645939230918884, 0.43645939230918884, 0.4364621341228485, 0.03967813774943352, 0.03967813774943352, 0.03967813774943352, 0.03967813774943352, 0.03967813774943352, 0.03967813774943352, 0.03967813774943352, 0.039678167551755905, 0.03967813774943352, 0.03967813774943352, 0.03967813774943352, 0.03967813774943352, 0.03967813774943352, 0.03967813774943352, 0.03967813774943352, 0.03967813774943352, 0.03967813774943352, 0.03967813774943352, 0.03967813774943352, 0.03967813774943352, 0.03967813774943352, 0.03967813774943352, 0.03967813774943352, 0.03967813774943352, 0.03967813774943352, 0.03967813774943352, 0.03967813774943352, 0.03967813774943352, 0.03967813774943352, 0.03967813774943352, 0.03967813774943352, 0.03967814892530441, 0.03967813774943352, 0.03967813774943352, 0.03967813774943352, 0.03967813774943352, 0.03967813774943352, 0.03967813774943352, 0.03967813774943352, 0.03967813774943352, 0.03967813774943352, 0.03967813774943352, 0.4364590346813202, 0.4364590346813202, 0.4364590346813202, 0.43645963072776794, 0.4364572763442993, 0.43646183609962463, 0.03967810422182083, 0.03967810422182083, 0.03967810422182083, 0.03967810049653053, 0.03967810422182083, 0.03967810049653053, 0.03967810049653053, 0.03967810049653053, 0.03967810049653053, 0.039678141474723816, 0.03967810422182083, 0.03967810422182083, 0.03967810049653053, 0.03967810049653053, 0.03967810049653053, 0.03967810422182083, 0.03967810422182083, 0.03967810422182083, 0.03967810422182083, 0.03967810049653053, 0.03967810049653053, 0.03967810049653053, 0.03967810049653053, 0.03967810794711113, 0.03967810422182083, 0.03967810422182083, 0.03967810422182083, 0.03967810049653053, 0.03967810049653053, 0.03967811167240143, 0.039678119122982025, 0.03967810049653053, 0.03967810422182083, 0.03967810794711113, 0.03967810422182083, 0.03967810049653053, 0.03967810049653053, 0.03967810049653053, 0.03967810794711113, 0.03967810049653053, 0.03967810049653053, 0.03967810049653053, 0.03967810049653053, 0.03967810049653053, 1.1163986921310425, 0.5847803354263306, 0.584780216217041, 0.584780216217041, 0.584780216217041, 0.584780216217041, 0.584780216217041, 0.584780216217041, 0.584780216217041, 0.584780216217041, 0.5847793221473694, 0.5847805142402649, 0.0531618595123291, 0.0531618557870388, 0.0531618557870388, 0.0531618557870388, 0.0531618557870388, 0.0531618557870388, 0.0531618557870388, 0.0531618595123291, 0.0531618557870388, 0.0531618557870388, 0.0531618557870388, 0.0531618557870388, 0.05316189303994179, 0.0531618595123291, 0.0531618595123291, 0.0531618595123291, 0.0531618557870388, 0.0531618557870388, 0.053161874413490295, 0.053161874413490295, 0.0531618557870388, 0.0531618557870388, 0.0531618557870388, 0.0531618669629097, 0.0531618557870388, 0.0531618595123291, 0.0531618669629097, 0.0531618557870388, 0.0531618669629097, 0.0531618557870388, 0.0531618557870388, 0.0531618557870388, 0.0531618557870388, 0.0531618557870388, 0.0531618557870388, 0.3987465798854828, 0.3987465798854828, 0.3987465798854828, 0.3987465798854828, 0.3987491726875305, 0.03624969720840454, 0.03624969720840454, 0.03624969720840454, 0.03624970093369484, 0.03624970093369484, 0.03624969720840454, 0.03624969720840454, 0.03624969720840454, 0.03624972701072693, 0.03624970093369484, 0.03624970093369484, 0.03624970093369484, 0.03624969720840454, 0.03624969720840454, 0.03624970093369484, 0.03624969720840454, 0.03624969720840454, 0.03624969720840454, 0.03624969720840454, 0.03624969720840454, 0.03624969720840454, 0.03624969720840454, 0.03624970465898514, 0.03624970465898514, 0.03624970465898514, 0.03624969720840454, 0.03624969720840454, 0.03624969720840454, 0.03624969720840454, 0.03624969720840454, 0.03624971583485603, 0.03624970093369484, 0.03624970465898514, 0.03624970465898514, 0.03624969720840454, 0.03624969720840454, 0.03624969720840454, 0.03624969720840454, 0.03624970093369484, 0.03624969720840454, 0.03624969720840454, 0.03624970093369484, 0.5190856456756592, 0.5190855860710144, 0.5190855860710144, 0.5190855860710144, 0.5190855860710144, 0.5190855860710144, 0.5190855860710144, 0.5190855860710144, 0.5190855860710144, 0.5190855860710144, 0.0471896156668663, 0.047189611941576004, 0.047189611941576004, 0.047189611941576004, 0.047189611941576004, 0.047189611941576004, 0.047189611941576004, 0.0471896156668663, 0.0471896156668663, 0.047189611941576004, 0.047189611941576004, 0.047189611941576004, 0.04718964919447899, 0.0471896156668663, 0.0471896156668663, 0.0471896156668663, 0.047189611941576004, 0.047189611941576004, 0.0471896156668663, 0.0471896156668663, 0.047189611941576004, 0.047189611941576004, 0.047189611941576004, 0.047189634293317795, 0.0471896193921566, 0.0471896193921566, 0.0471896156668663, 0.0471896156668663, 0.047189611941576004, 0.047189611941576004, 0.0471896156668663, 0.0471896156668663, 0.0471896156668663, 0.047189611941576004], \"Term\": [\"tuning\", \"cache\", \"continuous\", \"context\", \"error\", \"driven\", \"improved\", \"extra\", \"decoder\", \"compensation\", \"quiet\", \"query\", \"index\", \"sigma\", \"modulators\", \"stability\", \"modeling\", \"delta\", \"design\", \"learning\", \"sketches\", \"object\", \"classify\", \"human\", \"kageo\", \"filters\", \"links\", \"internet\", \"elliptic\", \"biquad\", \"sinusoidal\", \"streams\", \"112-gbit\", \"equalizer\", \"feasibility\", \"fiber\", \"optical\", \"receivers\", \"study\", \"performance\", \"guaranteed\", \"bounds\", \"approximate\", \"tunable\", \"translinear\", \"oscillator\", \"bicmos\", \"7-decades\", \"3-phase\", \"queries\", \"utility\", \"tweeted\", \"search\", \"error\", \"based\", \"improved\", \"extra\", \"decoder\", \"compensation\", \"quiet\", \"index\", \"stability\", \"query\", \"delta\", \"sigma\", \"kageo\", \"single\", \"logical\", \"natural\", \"augmented\", \"cache\", \"object\", \"learning\", \"human\", \"classify\", \"sketches\", \"kageo\", \"extra\", \"decoder\", \"improved\", \"compensation\", \"index\", \"query\", \"quiet\", \"delta\", \"sigma\", \"modeling\", \"modulators\", \"stability\", \"missing\", \"biquad\", \"internet\", \"connectivity\", \"matter\", \"links\", \"filters\", \"elliptic\", \"codasyl\", \"external\", \"schema\", \"sphere\", \"single\", \"shadow\", \"directional\", \"unfolding\", \"search\", \"reality\", \"jockey\", \"animated\", \"series\", \"based\", \"utility\", \"tweeted\", \"tuning\", \"continuous\", \"system\", \"world\", \"driven\", \"estimation\", \"mapping\", \"method\", \"image\", \"gesture\", \"compact\", \"camera\", \"unspecified\", \"users\", \"algebra\", \"fusion\", \"level\", \"linear\", \"pixel\", \"scheme\", \"coding\", \"control\", \"multicast\", \"network\", \"optimization\", \"using\", \"world\", \"speed\", \"technology\", \"animated\", \"series\", \"estimation\", \"based\", \"system\", \"extra\", \"compensation\", \"improved\", \"decoder\", \"kageo\", \"language\", \"jockey\", \"design\", \"design\", \"theory\", \"practice\", \"efficient\", \"processor\", \"wimax\", \"bases\", \"consultable\", \"deductive\", \"language\", \"logical\", \"natural\", \"application\", \"paper\", \"comments\", \"jockey\", \"memory\", \"reality\", \"augmented\", \"continuous\", \"extra\", \"improved\", \"decoder\", \"compensation\", \"query\", \"index\", \"quiet\", \"stability\", \"delta\", \"sigma\", \"modulators\", \"modeling\", \"kageo\", \"external\", \"error\", \"unfolding\", \"tweeted\", \"utility\", \"tuning\", \"schema\", \"human\", \"tuning\", \"filters\", \"elliptic\", \"biquad\", \"missing\", \"matter\", \"internet\", \"connectivity\", \"links\", \"improved\", \"decoder\", \"extra\", \"compensation\", \"quiet\", \"index\", \"query\", \"delta\", \"modeling\", \"modulators\", \"sigma\", \"stability\", \"kageo\", \"classify\", \"learning\", \"object\", \"human\", \"sketches\", \"mapping\", \"method\", \"codasyl\", \"unfolding\", \"sphere\", \"single\", \"shadow\", \"series\", \"based\", \"utility\", \"error\", \"augmented\", \"jockey\", \"animated\", \"continuous\", \"cache\", \"directional\", \"deductive\", \"driven\", \"design\", \"stability\", \"sigma\", \"modulators\", \"delta\", \"modeling\", \"continuous\", \"compensation\", \"improved\", \"decoder\", \"extra\", \"quiet\", \"query\", \"index\", \"kageo\", \"object\", \"sketches\", \"classify\", \"human\", \"learning\", \"connectivity\", \"internet\", \"links\", \"matter\", \"missing\", \"filters\", \"elliptic\", \"biquad\", \"codasyl\", \"external\", \"schema\", \"method\", \"single\", \"directional\", \"unfolding\", \"mapping\", \"shadow\", \"sphere\", \"cache\", \"design\", \"language\", \"logical\", \"natural\", \"augmented\", \"jockey\", \"reality\", \"theory\", \"deductive\", \"driven\", \"quiet\", \"query\", \"index\", \"driven\", \"tuning\", \"continuous\", \"extra\", \"decoder\", \"compensation\", \"improved\", \"sigma\", \"delta\", \"stability\", \"modulators\", \"modeling\", \"kageo\", \"classify\", \"object\", \"sketches\", \"human\", \"learning\", \"missing\", \"connectivity\", \"links\", \"internet\", \"filters\", \"biquad\", \"matter\", \"elliptic\", \"external\", \"codasyl\", \"single\", \"schema\", \"method\", \"sphere\", \"animated\", \"cache\", \"directional\", \"reality\", \"augmented\", \"jockey\", \"natural\", \"logical\", \"language\", \"design\", \"mapping\", \"unfolding\", \"shadow\", \"consultable\", \"3-phase\", \"context\", \"annotation\", \"semantic\", \"pankow\", \"flatbed\", \"displays\", \"birds\", \"autostereoscopic\", \"gimme\", \"automatic\", \"driven\", \"system\", \"decoder\", \"improved\", \"extra\", \"compensation\", \"index\", \"query\", \"quiet\", \"modeling\", \"sigma\", \"stability\", \"delta\", \"modulators\", \"kageo\", \"sketches\", \"classify\", \"learning\", \"object\", \"human\", \"animated\", \"cache\", \"logical\", \"natural\", \"theory\", \"jockey\", \"language\", \"design\", \"augmented\", \"method\", \"reality\", \"directional\", \"mapping\", \"consultable\", \"shadow\", \"single\", \"sphere\", \"extra\", \"improved\", \"compensation\", \"decoder\", \"error\", \"quiet\", \"query\", \"index\", \"sigma\", \"delta\", \"modulators\", \"stability\", \"modeling\", \"kageo\", \"sketches\", \"object\", \"human\", \"classify\", \"learning\", \"internet\", \"missing\", \"connectivity\", \"matter\", \"links\", \"filters\", \"elliptic\", \"biquad\", \"schema\", \"codasyl\", \"external\", \"shadow\", \"directional\", \"unfolding\", \"single\", \"method\", \"cache\", \"augmented\", \"jockey\", \"reality\", \"mapping\", \"natural\", \"logical\", \"language\", \"theory\", \"deductive\", \"sphere\", \"driven\", \"shadow\", \"codasyl\", \"method\", \"external\", \"sphere\", \"unfolding\", \"schema\", \"single\", \"directional\", \"mapping\", \"compensation\", \"decoder\", \"extra\", \"improved\", \"quiet\", \"query\", \"index\", \"delta\", \"sigma\", \"stability\", \"modulators\", \"modeling\", \"kageo\", \"classify\", \"human\", \"object\", \"learning\", \"sketches\", \"filters\", \"missing\", \"links\", \"connectivity\", \"internet\", \"cache\", \"augmented\", \"jockey\", \"reality\", \"natural\", \"logical\", \"language\", \"design\", \"theory\", \"driven\", \"consultable\"], \"Total\": [1.0, 1.0, 1.0, 1.0, 1.0, 1.0, 0.0, 0.0, 0.0, 0.0, 0.0, 0.0, 0.0, 0.0, 0.0, 0.0, 0.0, 0.0, 1.0, 0.0, 0.0, 0.0, 0.0, 0.0, 0.0, 0.0, 0.0, 0.0, 0.0, 0.0, 1.1311975717544556, 1.1311975717544556, 1.1311975717544556, 1.1311975717544556, 1.1311975717544556, 1.1311975717544556, 1.1311975717544556, 1.1311978101730347, 1.1311978101730347, 1.1311975717544556, 1.1311975717544556, 1.1311975717544556, 1.1311975717544556, 1.1311975717544556, 1.1311975717544556, 1.1311975717544556, 1.1311975717544556, 1.1311978101730347, 1.1311975717544556, 1.1311975717544556, 1.1311978101730347, 1.1311976909637451, 1.1311976909637451, 1.4936927556991577, 2.448944091796875, 0.8549240231513977, 0.8549240231513977, 0.8549240231513977, 0.8549240231513977, 0.8892080783843994, 0.8892080783843994, 0.8892083764076233, 0.8892080783843994, 0.8892083764076233, 0.8892083764076233, 0.8924033045768738, 0.9643231630325317, 1.0895105600357056, 1.0895105600357056, 1.0895105600357056, 1.292379379272461, 0.8924031853675842, 0.8924031853675842, 0.8924031853675842, 0.8924031853675842, 0.8924031853675842, 0.8924033045768738, 0.8549240231513977, 0.8549240231513977, 0.8549240231513977, 0.8549240231513977, 0.8892080783843994, 0.8892080783843994, 0.8892080783843994, 0.8892083764076233, 0.8892083764076233, 0.8892083764076233, 0.8892083764076233, 0.8892083764076233, 0.9624208807945251, 0.9624208807945251, 0.9624208807945251, 0.9624208807945251, 0.9624208807945251, 0.9624208807945251, 0.9624208807945251, 0.9624208807945251, 0.9643231630325317, 0.9643231630325317, 0.9643231630325317, 0.9643231630325317, 0.9643231630325317, 0.9643231630325317, 0.9643231630325317, 0.9643231630325317, 1.1311976909637451, 1.0895106792449951, 1.0895105600357056, 1.151300311088562, 1.151300311088562, 2.448944091796875, 1.1311978101730347, 1.1311976909637451, 1.8291959762573242, 1.8830701112747192, 1.6829187870025635, 1.151300311088562, 1.4208261966705322, 1.151300311088562, 0.9643231630325317, 0.9643231630325317, 1.151300311088562, 1.151300311088562, 1.151300311088562, 1.151300311088562, 1.151300311088562, 1.151300311088562, 1.151300311088562, 1.151300311088562, 1.151300311088562, 1.151300311088562, 1.151300311088562, 1.151300311088562, 1.151300311088562, 1.151300311088562, 1.151300311088562, 1.151300311088562, 1.151300311088562, 1.151300311088562, 1.151300311088562, 1.151300311088562, 1.151300311088562, 1.151300311088562, 1.151300311088562, 1.151300311088562, 2.448944091796875, 1.6829187870025635, 0.8549240231513977, 0.8549240231513977, 0.8549240231513977, 0.8549240231513977, 0.8924033045768738, 1.0895105600357056, 1.0895105600357056, 1.6865938901901245, 1.6865938901901245, 1.0895105600357056, 1.0895105600357056, 1.0895105600357056, 1.0895105600357056, 1.0895105600357056, 1.0895105600357056, 1.0895105600357056, 1.0895105600357056, 1.0895105600357056, 1.0895105600357056, 1.0895105600357056, 1.0895105600357056, 1.0895105600357056, 1.0895105600357056, 1.0895105600357056, 1.0895106792449951, 1.0895106792449951, 1.0895105600357056, 1.8830701112747192, 0.8549240231513977, 0.8549240231513977, 0.8549240231513977, 0.8549240231513977, 0.8892080783843994, 0.8892080783843994, 0.8892080783843994, 0.8892083764076233, 0.8892083764076233, 0.8892083764076233, 0.8892083764076233, 0.8892083764076233, 0.8924033045768738, 0.9643231630325317, 1.4936927556991577, 0.9643231630325317, 1.1311976909637451, 1.1311978101730347, 1.8291959762573242, 0.9643231630325317, 0.8924031853675842, 1.8291959762573242, 0.9624208807945251, 0.9624208807945251, 0.9624208807945251, 0.9624208807945251, 0.9624208807945251, 0.9624208807945251, 0.9624208807945251, 0.9624208807945251, 0.8549240231513977, 0.8549240231513977, 0.8549240231513977, 0.8549240231513977, 0.8892080783843994, 0.8892080783843994, 0.8892080783843994, 0.8892083764076233, 0.8892083764076233, 0.8892083764076233, 0.8892083764076233, 0.8892083764076233, 0.8924033045768738, 0.8924031853675842, 0.8924031853675842, 0.8924031853675842, 0.8924031853675842, 0.8924031853675842, 0.9643231630325317, 0.9643231630325317, 0.9643231630325317, 0.9643231630325317, 0.9643231630325317, 0.9643231630325317, 0.9643231630325317, 1.151300311088562, 2.448944091796875, 1.1311978101730347, 1.4936927556991577, 1.0895105600357056, 1.0895105600357056, 1.151300311088562, 1.8830701112747192, 1.292379379272461, 0.9643231630325317, 1.0895105600357056, 1.4208261966705322, 1.6865938901901245, 0.8892083764076233, 0.8892083764076233, 0.8892083764076233, 0.8892083764076233, 0.8892083764076233, 1.8830701112747192, 0.8549240231513977, 0.8549240231513977, 0.8549240231513977, 0.8549240231513977, 0.8892080783843994, 0.8892080783843994, 0.8892080783843994, 0.8924033045768738, 0.8924031853675842, 0.8924031853675842, 0.8924031853675842, 0.8924031853675842, 0.8924031853675842, 0.9624208807945251, 0.9624208807945251, 0.9624208807945251, 0.9624208807945251, 0.9624208807945251, 0.9624208807945251, 0.9624208807945251, 0.9624208807945251, 0.9643231630325317, 0.9643231630325317, 0.9643231630325317, 0.9643231630325317, 0.9643231630325317, 0.9643231630325317, 0.9643231630325317, 0.9643231630325317, 0.9643231630325317, 0.9643231630325317, 1.292379379272461, 1.6865938901901245, 1.0895105600357056, 1.0895105600357056, 1.0895105600357056, 1.0895105600357056, 1.0895105600357056, 1.0895106792449951, 1.0895105600357056, 1.0895105600357056, 1.4208261966705322, 0.8892080783843994, 0.8892080783843994, 0.8892080783843994, 1.4208261966705322, 1.8291959762573242, 1.8830701112747192, 0.8549240231513977, 0.8549240231513977, 0.8549240231513977, 0.8549240231513977, 0.8892083764076233, 0.8892083764076233, 0.8892083764076233, 0.8892083764076233, 0.8892083764076233, 0.8924033045768738, 0.8924031853675842, 0.8924031853675842, 0.8924031853675842, 0.8924031853675842, 0.8924031853675842, 0.9624208807945251, 0.9624208807945251, 0.9624208807945251, 0.9624208807945251, 0.9624208807945251, 0.9624208807945251, 0.9624208807945251, 0.9624208807945251, 0.9643231630325317, 0.9643231630325317, 0.9643231630325317, 0.9643231630325317, 0.9643231630325317, 0.9643231630325317, 1.151300311088562, 1.292379379272461, 0.9643231630325317, 1.0895106792449951, 1.0895105600357056, 1.0895105600357056, 1.0895105600357056, 1.0895105600357056, 1.0895105600357056, 1.6865938901901245, 0.9643231630325317, 0.9643231630325317, 0.9643231630325317, 1.0895105600357056, 1.1311975717544556, 1.5556640625, 1.024045705795288, 1.0240455865859985, 1.0240455865859985, 1.0240455865859985, 1.0240455865859985, 1.0240455865859985, 1.0240455865859985, 1.0240455865859985, 1.0240455865859985, 1.4208261966705322, 1.6829187870025635, 0.8549240231513977, 0.8549240231513977, 0.8549240231513977, 0.8549240231513977, 0.8892080783843994, 0.8892080783843994, 0.8892080783843994, 0.8892083764076233, 0.8892083764076233, 0.8892083764076233, 0.8892083764076233, 0.8892083764076233, 0.8924033045768738, 0.8924031853675842, 0.8924031853675842, 0.8924031853675842, 0.8924031853675842, 0.8924031853675842, 1.151300311088562, 1.292379379272461, 1.0895105600357056, 1.0895105600357056, 1.0895105600357056, 1.0895105600357056, 1.0895105600357056, 1.6865938901901245, 1.0895105600357056, 0.9643231630325317, 1.0895106792449951, 0.9643231630325317, 0.9643231630325317, 1.0895105600357056, 0.9643231630325317, 0.9643231630325317, 0.9643231630325317, 0.8549240231513977, 0.8549240231513977, 0.8549240231513977, 0.8549240231513977, 1.4936927556991577, 0.8892080783843994, 0.8892080783843994, 0.8892080783843994, 0.8892083764076233, 0.8892083764076233, 0.8892083764076233, 0.8892083764076233, 0.8892083764076233, 0.8924033045768738, 0.8924031853675842, 0.8924031853675842, 0.8924031853675842, 0.8924031853675842, 0.8924031853675842, 0.9624208807945251, 0.9624208807945251, 0.9624208807945251, 0.9624208807945251, 0.9624208807945251, 0.9624208807945251, 0.9624208807945251, 0.9624208807945251, 0.9643231630325317, 0.9643231630325317, 0.9643231630325317, 0.9643231630325317, 0.9643231630325317, 0.9643231630325317, 0.9643231630325317, 0.9643231630325317, 1.292379379272461, 1.0895105600357056, 1.0895105600357056, 1.0895106792449951, 0.9643231630325317, 1.0895105600357056, 1.0895105600357056, 1.0895105600357056, 1.0895105600357056, 1.0895105600357056, 0.9643231630325317, 1.4208261966705322, 0.9643231630325317, 0.9643231630325317, 0.9643231630325317, 0.9643231630325317, 0.9643231630325317, 0.9643231630325317, 0.9643231630325317, 0.9643231630325317, 0.9643231630325317, 0.9643231630325317, 0.8549240231513977, 0.8549240231513977, 0.8549240231513977, 0.8549240231513977, 0.8892080783843994, 0.8892080783843994, 0.8892080783843994, 0.8892083764076233, 0.8892083764076233, 0.8892083764076233, 0.8892083764076233, 0.8892083764076233, 0.8924033045768738, 0.8924031853675842, 0.8924031853675842, 0.8924031853675842, 0.8924031853675842, 0.8924031853675842, 0.9624208807945251, 0.9624208807945251, 0.9624208807945251, 0.9624208807945251, 0.9624208807945251, 1.292379379272461, 1.0895105600357056, 1.0895105600357056, 1.0895106792449951, 1.0895105600357056, 1.0895105600357056, 1.0895105600357056, 1.6865938901901245, 1.0895105600357056, 1.4208261966705322, 1.0895105600357056], \"loglift\": [30.0, 29.0, 28.0, 27.0, 26.0, 25.0, 24.0, 23.0, 22.0, 21.0, 20.0, 19.0, 18.0, 17.0, 16.0, 15.0, 14.0, 13.0, 12.0, 11.0, 10.0, 9.0, 8.0, 7.0, 6.0, 5.0, 4.0, 3.0, 2.0, 1.0, 1.2389999628067017, 1.2389999628067017, 1.2389999628067017, 1.2389999628067017, 1.2389999628067017, 1.2389999628067017, 1.2389999628067017, 1.2389999628067017, 1.2389999628067017, 1.2389999628067017, 1.2389999628067017, 1.2389999628067017, 1.2389999628067017, 1.2389999628067017, 1.2389999628067017, 1.2389999628067017, 1.2389999628067017, 1.2389999628067017, 1.2389999628067017, 1.2389999628067017, 1.2389999628067017, 1.2389999628067017, 1.2389999628067017, 0.9610000252723694, 0.4666000008583069, -0.8788999915122986, -0.8788999915122986, -0.8788999915122986, -0.8788999915122986, -0.9182000160217285, -0.9182000160217285, -0.9182000160217285, -0.9182000160217285, -0.9182000160217285, -0.9182000160217285, -0.9218000173568726, -0.9993000030517578, -1.1212999820709229, -1.1212999820709229, -1.1212999820709229, 2.3698999881744385, 2.093600034713745, 2.093600034713745, 2.093600034713745, 2.093600034713745, 2.093600034713745, 2.093600034713745, -0.2614000141620636, -0.2614000141620636, -0.2614000141620636, -0.2614000141620636, -0.30070000886917114, -0.30070000886917114, -0.30070000886917114, -0.30070000886917114, -0.30070000886917114, -0.30070000886917114, -0.30070000886917114, -0.30070000886917114, -0.3797999918460846, -0.3797999918460846, -0.3797999918460846, -0.3797999918460846, -0.3797999918460846, -0.3797999918460846, -0.3797999918460846, -0.3797999918460846, -0.38179999589920044, -0.38179999589920044, -0.38179999589920044, -0.38179999589920044, -0.38179999589920044, -0.38179999589920044, -0.38179999589920044, -0.38179999589920044, -0.5414000153541565, -0.5037999749183655, -0.5037999749183655, -0.5590000152587891, -0.5590000152587891, -1.3137999773025513, -0.5414000153541565, -0.5414000153541565, -1.0219999551773071, -1.0509999990463257, -0.9386000037193298, -0.5590000152587891, -0.7692999839782715, -0.5590000152587891, -0.38179999589920044, -0.38179999589920044, 1.1685999631881714, 1.1685999631881714, 1.1685999631881714, 1.1685999631881714, 1.1685999631881714, 1.1685999631881714, 1.1685999631881714, 1.1685999631881714, 1.1685999631881714, 1.1685999631881714, 1.1685999631881714, 1.1685999631881714, 1.1685999631881714, 1.1685999631881714, 1.1685999631881714, 1.1685999631881714, 1.1685999631881714, 1.1685999631881714, 1.1685999631881714, 1.1685999631881714, 1.1685999631881714, 1.1685999631881714, 1.1685999631881714, 1.1685999631881714, 1.0605000257492065, 0.7889999747276306, -0.9315999746322632, -0.9315999746322632, -0.9315999746322632, -0.9315999746322632, -0.9745000004768372, -1.1741000413894653, -1.1741000413894653, -1.6110999584197998, 1.6009999513626099, 1.3912999629974365, 1.3912999629974365, 1.3912999629974365, 1.3912999629974365, 1.3912999629974365, 1.3912999629974365, 1.3912999629974365, 1.3912999629974365, 1.3912999629974365, 1.3912999629974365, 1.3912999629974365, 1.3912999629974365, 1.3912999629974365, 1.3912999629974365, 1.3912999629974365, 1.3912999629974365, 1.3912999629974365, 1.3912999629974365, 0.8440999984741211, -0.7641000151634216, -0.7641000151634216, -0.7641000151634216, -0.7641000151634216, -0.8033999800682068, -0.8033999800682068, -0.8033999800682068, -0.8033999800682068, -0.8033999800682068, -0.8033999800682068, -0.8033999800682068, -0.8033999800682068, -0.8069999814033508, -0.8845000267028809, -1.322100043296814, -0.8845000267028809, -1.044100046157837, -1.044100046157837, -1.5247000455856323, -0.8845000267028809, -0.8069999814033508, 1.926800012588501, 1.9222999811172485, 1.9222999811172485, 1.9222999811172485, 1.9222999811172485, 1.9222999811172485, 1.9222999811172485, 1.9222999811172485, 1.9222999811172485, -0.3571000099182129, -0.3571000099182129, -0.3571000099182129, -0.3571000099182129, -0.39649999141693115, -0.39649999141693115, -0.39649999141693115, -0.39649999141693115, -0.39649999141693115, -0.39649999141693115, -0.39649999141693115, -0.39649999141693115, -0.4000000059604645, -0.4000000059604645, -0.4000000059604645, -0.4000000059604645, -0.4000000059604645, -0.4000000059604645, -0.47749999165534973, -0.47749999165534973, -0.47749999165534973, -0.47749999165534973, -0.47749999165534973, -0.47749999165534973, -0.47749999165534973, -0.6547999978065491, -1.409500002861023, -0.6371999979019165, -0.9150999784469604, -0.5996000170707703, -0.5996000170707703, -0.6547999978065491, -1.1468000411987305, -0.7703999876976013, -0.47749999165534973, -0.5996000170707703, -0.8651000261306763, -1.0365999937057495, 2.2030999660491943, 2.2030999660491943, 2.2030999660491943, 2.2030999660491943, 2.2030999660491943, 1.4528000354766846, -0.15539999306201935, -0.15539999306201935, -0.15539999306201935, -0.15539999306201935, -0.19480000436306, -0.19480000436306, -0.19480000436306, -0.19840000569820404, -0.19840000569820404, -0.19840000569820404, -0.19840000569820404, -0.19840000569820404, -0.19840000569820404, -0.27390000224113464, -0.27390000224113464, -0.27390000224113464, -0.27390000224113464, -0.27390000224113464, -0.27390000224113464, -0.27390000224113464, -0.27390000224113464, -0.2759000062942505, -0.2759000062942505, -0.2759000062942505, -0.2759000062942505, -0.2759000062942505, -0.2759000062942505, -0.2759000062942505, -0.2759000062942505, -0.2759000062942505, -0.2759000062942505, -0.5687000155448914, -0.8349000215530396, -0.3978999853134155, -0.3978999853134155, -0.3978999853134155, -0.3978999853134155, -0.3978999853134155, -0.3978999853134155, -0.3978999853134155, -0.3978999853134155, -0.6633999943733215, 2.2030999660491943, 2.2030999660491943, 2.2030999660491943, 1.7345000505447388, 1.4817999601364136, 1.4528000354766846, -0.15539999306201935, -0.15539999306201935, -0.15539999306201935, -0.15539999306201935, -0.19480000436306, -0.19480000436306, -0.19480000436306, -0.19480000436306, -0.19480000436306, -0.19840000569820404, -0.19840000569820404, -0.19840000569820404, -0.19840000569820404, -0.19840000569820404, -0.19840000569820404, -0.27390000224113464, -0.27390000224113464, -0.27390000224113464, -0.27390000224113464, -0.27390000224113464, -0.27390000224113464, -0.27390000224113464, -0.27390000224113464, -0.2759000062942505, -0.2759000062942505, -0.2759000062942505, -0.2759000062942505, -0.2759000062942505, -0.2759000062942505, -0.4530999958515167, -0.5687000155448914, -0.2759000062942505, -0.3978999853134155, -0.3978999853134155, -0.3978999853134155, -0.3978999853134155, -0.3978999853134155, -0.3978999853134155, -0.8349000215530396, -0.2759000062942505, -0.2759000062942505, -0.2759000062942505, -0.3978999853134155, -0.43549999594688416, 1.9603999853134155, 1.7318999767303467, 1.7318999767303467, 1.7318999767303467, 1.7318999767303467, 1.7318999767303467, 1.7318999767303467, 1.7318999767303467, 1.7318999767303467, 1.7318999767303467, 1.4043999910354614, 1.2351000308990479, -0.4855000078678131, -0.4855000078678131, -0.4855000078678131, -0.4855000078678131, -0.5248000025749207, -0.5248000025749207, -0.5248000025749207, -0.5248000025749207, -0.5248000025749207, -0.5248000025749207, -0.5248000025749207, -0.5248000025749207, -0.5284000039100647, -0.5284000039100647, -0.5284000039100647, -0.5284000039100647, -0.5284000039100647, -0.5284000039100647, -0.7831000089645386, -0.8986999988555908, -0.7279999852180481, -0.7279999852180481, -0.7279999852180481, -0.7279999852180481, -0.7279999852180481, -1.1649999618530273, -0.7279999852180481, -0.60589998960495, -0.7279999852180481, -0.60589998960495, -0.60589998960495, -0.7279999852180481, -0.60589998960495, -0.60589998960495, -0.60589998960495, 2.2999000549316406, 2.2999000549316406, 2.2999000549316406, 2.2999000549316406, 1.7418999671936035, -0.13729999959468842, -0.13729999959468842, -0.13729999959468842, -0.13729999959468842, -0.13729999959468842, -0.13729999959468842, -0.13729999959468842, -0.13729999959468842, -0.14090000092983246, -0.14090000092983246, -0.14090000092983246, -0.14090000092983246, -0.14090000092983246, -0.14090000092983246, -0.21639999747276306, -0.21639999747276306, -0.21639999747276306, -0.21639999747276306, -0.21639999747276306, -0.21639999747276306, -0.21639999747276306, -0.21639999747276306, -0.2184000015258789, -0.2184000015258789, -0.2184000015258789, -0.2184000015258789, -0.2184000015258789, -0.2184000015258789, -0.2184000015258789, -0.2184000015258789, -0.5112000107765198, -0.34040001034736633, -0.34040001034736633, -0.34040001034736633, -0.2184000015258789, -0.34040001034736633, -0.34040001034736633, -0.34040001034736633, -0.34040001034736633, -0.34040001034736633, -0.2184000015258789, -0.60589998960495, 1.920300006866455, 1.920300006866455, 1.920300006866455, 1.920300006866455, 1.920300006866455, 1.920300006866455, 1.920300006866455, 1.920300006866455, 1.920300006866455, 1.920300006866455, -0.3571000099182129, -0.3571000099182129, -0.3571000099182129, -0.3571000099182129, -0.39649999141693115, -0.39649999141693115, -0.39649999141693115, -0.39649999141693115, -0.39649999141693115, -0.39649999141693115, -0.39649999141693115, -0.39649999141693115, -0.4000000059604645, -0.4000000059604645, -0.4000000059604645, -0.4000000059604645, -0.4000000059604645, -0.4000000059604645, -0.475600004196167, -0.475600004196167, -0.475600004196167, -0.475600004196167, -0.475600004196167, -0.7703999876976013, -0.5996000170707703, -0.5996000170707703, -0.5996000170707703, -0.5996000170707703, -0.5996000170707703, -0.5996000170707703, -1.0365999937057495, -0.5996000170707703, -0.8651000261306763, -0.5996000170707703], \"logprob\": [30.0, 29.0, 28.0, 27.0, 26.0, 25.0, 24.0, 23.0, 22.0, 21.0, 20.0, 19.0, 18.0, 17.0, 16.0, 15.0, 14.0, 13.0, 12.0, 11.0, 10.0, 9.0, 8.0, 7.0, 6.0, 5.0, 4.0, 3.0, 2.0, 1.0, -3.5129001140594482, -3.5129001140594482, -3.5129001140594482, -3.5129001140594482, -3.5129001140594482, -3.5129001140594482, -3.5129001140594482, -3.5129001140594482, -3.5129001140594482, -3.5129001140594482, -3.5129001140594482, -3.5129001140594482, -3.5129001140594482, -3.5129001140594482, -3.5129001140594482, -3.5129001140594482, -3.5129001140594482, -3.5129001140594482, -3.5129001140594482, -3.5129001140594482, -3.5129001140594482, -3.5129001140594482, -3.5129001140594482, -3.5129001140594482, -3.5129001140594482, -5.910799980163574, -5.910799980163574, -5.910799980163574, -5.910799980163574, -5.910799980163574, -5.910799980163574, -5.910799980163574, -5.910799980163574, -5.910799980163574, -5.910799980163574, -5.910799980163574, -5.910799980163574, -5.910799980163574, -5.910799980163574, -5.910799980163574, -2.248800039291382, -2.895400047302246, -2.895400047302246, -2.895400047302246, -2.895400047302246, -2.895400047302246, -2.895400047302246, -5.293300151824951, -5.293300151824951, -5.293300151824951, -5.293300151824951, -5.293300151824951, -5.293300151824951, -5.293300151824951, -5.293300151824951, -5.293300151824951, -5.293300151824951, -5.293300151824951, -5.293300151824951, -5.293300151824951, -5.293300151824951, -5.293300151824951, -5.293300151824951, -5.293300151824951, -5.293300151824951, -5.293300151824951, -5.293300151824951, -5.293300151824951, -5.293300151824951, -5.293300151824951, -5.293300151824951, -5.293300151824951, -5.293300151824951, -5.293300151824951, -5.293300151824951, -5.293300151824951, -5.293300151824951, -5.293300151824951, -5.293300151824951, -5.293300151824951, -5.293300151824951, -5.293300151824951, -5.293300151824951, -5.293300151824951, -5.293300151824951, -5.293300151824951, -5.293300151824951, -5.293300151824951, -5.293300151824951, -5.293300151824951, -5.293300151824951, -3.565700054168701, -3.565700054168701, -3.565700054168701, -3.565700054168701, -3.565700054168701, -3.565700054168701, -3.565700054168701, -3.565700054168701, -3.565700054168701, -3.565700054168701, -3.565700054168701, -3.565700054168701, -3.565700054168701, -3.565700054168701, -3.565700054168701, -3.565700054168701, -3.565700054168701, -3.565700054168701, -3.565700054168701, -3.565700054168701, -3.565700054168701, -3.565700054168701, -3.565700054168701, -3.565700054168701, -2.919100046157837, -3.565700054168701, -5.963600158691406, -5.963600158691406, -5.963600158691406, -5.963600158691406, -5.963600158691406, -5.963600158691406, -5.963600158691406, -5.963600158691406, -2.751499891281128, -3.398200035095215, -3.398200035095215, -3.398200035095215, -3.398200035095215, -3.398200035095215, -3.398200035095215, -3.398200035095215, -3.398200035095215, -3.398200035095215, -3.398200035095215, -3.398200035095215, -3.398200035095215, -3.398200035095215, -3.398200035095215, -3.398200035095215, -3.398200035095215, -3.398200035095215, -3.398200035095215, -3.398200035095215, -5.79610013961792, -5.79610013961792, -5.79610013961792, -5.79610013961792, -5.79610013961792, -5.79610013961792, -5.79610013961792, -5.79610013961792, -5.79610013961792, -5.79610013961792, -5.79610013961792, -5.79610013961792, -5.79610013961792, -5.79610013961792, -5.79610013961792, -5.79610013961792, -5.79610013961792, -5.79610013961792, -5.79610013961792, -5.79610013961792, -5.79610013961792, -2.3445000648498535, -2.9911999702453613, -2.9911999702453613, -2.9911999702453613, -2.9911999702453613, -2.9911999702453613, -2.9911999702453613, -2.9911999702453613, -2.9911999702453613, -5.389100074768066, -5.389100074768066, -5.389100074768066, -5.389100074768066, -5.389100074768066, -5.389100074768066, -5.389100074768066, -5.389100074768066, -5.389100074768066, -5.389100074768066, -5.389100074768066, -5.389100074768066, -5.389100074768066, -5.389100074768066, -5.389100074768066, -5.389100074768066, -5.389100074768066, -5.389100074768066, -5.389100074768066, -5.389100074768066, -5.389100074768066, -5.389100074768066, -5.389100074768066, -5.389100074768066, -5.389100074768066, -5.389100074768066, -5.389100074768066, -5.389100074768066, -5.389100074768066, -5.389100074768066, -5.389100074768066, -5.389100074768066, -5.389100074768066, -5.389100074768066, -5.389100074768066, -5.389100074768066, -5.389100074768066, -5.389100074768066, -2.7894999980926514, -2.7894999980926514, -2.7894999980926514, -2.7894999980926514, -2.7894999980926514, -2.7894999980926514, -5.187399864196777, -5.187399864196777, -5.187399864196777, -5.187399864196777, -5.187399864196777, -5.187399864196777, -5.187399864196777, -5.187399864196777, -5.187399864196777, -5.187399864196777, -5.187399864196777, -5.187399864196777, -5.187399864196777, -5.187399864196777, -5.187399864196777, -5.187399864196777, -5.187399864196777, -5.187399864196777, -5.187399864196777, -5.187399864196777, -5.187399864196777, -5.187399864196777, -5.187399864196777, -5.187399864196777, -5.187399864196777, -5.187399864196777, -5.187399864196777, -5.187399864196777, -5.187399864196777, -5.187399864196777, -5.187399864196777, -5.187399864196777, -5.187399864196777, -5.187399864196777, -5.187399864196777, -5.187399864196777, -5.187399864196777, -5.187399864196777, -5.187399864196777, -5.187399864196777, -5.187399864196777, -5.187399864196777, -2.7894999980926514, -2.7894999980926514, -2.7894999980926514, -2.7894999980926514, -2.7894999980926514, -2.7894999980926514, -5.187399864196777, -5.187399864196777, -5.187399864196777, -5.187399864196777, -5.187399864196777, -5.187399864196777, -5.187399864196777, -5.187399864196777, -5.187399864196777, -5.187399864196777, -5.187399864196777, -5.187399864196777, -5.187399864196777, -5.187399864196777, -5.187399864196777, -5.187399864196777, -5.187399864196777, -5.187399864196777, -5.187399864196777, -5.187399864196777, -5.187399864196777, -5.187399864196777, -5.187399864196777, -5.187399864196777, -5.187399864196777, -5.187399864196777, -5.187399864196777, -5.187399864196777, -5.187399864196777, -5.187399864196777, -5.187399864196777, -5.187399864196777, -5.187399864196777, -5.187399864196777, -5.187399864196777, -5.187399864196777, -5.187399864196777, -5.187399864196777, -5.187399864196777, -5.187399864196777, -5.187399864196777, -5.187399864196777, -5.187399864196777, -5.187399864196777, -2.472899913787842, -3.1196000576019287, -3.1196000576019287, -3.1196000576019287, -3.1196000576019287, -3.1196000576019287, -3.1196000576019287, -3.1196000576019287, -3.1196000576019287, -3.1196000576019287, -3.1196000576019287, -3.1196000576019287, -5.517499923706055, -5.517499923706055, -5.517499923706055, -5.517499923706055, -5.517499923706055, -5.517499923706055, -5.517499923706055, -5.517499923706055, -5.517499923706055, -5.517499923706055, -5.517499923706055, -5.517499923706055, -5.517499923706055, -5.517499923706055, -5.517499923706055, -5.517499923706055, -5.517499923706055, -5.517499923706055, -5.517499923706055, -5.517499923706055, -5.517499923706055, -5.517499923706055, -5.517499923706055, -5.517499923706055, -5.517499923706055, -5.517499923706055, -5.517499923706055, -5.517499923706055, -5.517499923706055, -5.517499923706055, -5.517499923706055, -5.517499923706055, -5.517499923706055, -5.517499923706055, -5.517499923706055, -2.7320001125335693, -2.7320001125335693, -2.7320001125335693, -2.7320001125335693, -2.7320001125335693, -5.129899978637695, -5.129899978637695, -5.129899978637695, -5.129899978637695, -5.129899978637695, -5.129899978637695, -5.129899978637695, -5.129899978637695, -5.129899978637695, -5.129899978637695, -5.129899978637695, -5.129899978637695, -5.129899978637695, -5.129899978637695, -5.129899978637695, -5.129899978637695, -5.129899978637695, -5.129899978637695, -5.129899978637695, -5.129899978637695, -5.129899978637695, -5.129899978637695, -5.129899978637695, -5.129899978637695, -5.129899978637695, -5.129899978637695, -5.129899978637695, -5.129899978637695, -5.129899978637695, -5.129899978637695, -5.129899978637695, -5.129899978637695, -5.129899978637695, -5.129899978637695, -5.129899978637695, -5.129899978637695, -5.129899978637695, -5.129899978637695, -5.129899978637695, -5.129899978637695, -5.129899978637695, -5.129899978637695, -2.9911999702453613, -2.9911999702453613, -2.9911999702453613, -2.9911999702453613, -2.9911999702453613, -2.9911999702453613, -2.9911999702453613, -2.9911999702453613, -2.9911999702453613, -2.9911999702453613, -5.389100074768066, -5.389100074768066, -5.389100074768066, -5.389100074768066, -5.389100074768066, -5.389100074768066, -5.389100074768066, -5.389100074768066, -5.389100074768066, -5.389100074768066, -5.389100074768066, -5.389100074768066, -5.389100074768066, -5.389100074768066, -5.389100074768066, -5.389100074768066, -5.389100074768066, -5.389100074768066, -5.389100074768066, -5.389100074768066, -5.389100074768066, -5.389100074768066, -5.389100074768066, -5.389100074768066, -5.389100074768066, -5.389100074768066, -5.389100074768066, -5.389100074768066, -5.389100074768066, -5.389100074768066, -5.389100074768066, -5.389100074768066, -5.389100074768066, -5.389100074768066]}, \"token.table\": {\"Topic\": [1, 1, 1, 3, 3, 8, 4, 1, 4, 8, 8, 1, 3, 4, 1, 5, 8, 1, 2, 3, 10, 3, 4, 3, 5, 4, 8, 4, 3, 4, 4, 10, 8, 8, 4, 5, 1, 1, 3, 10, 1, 1, 5, 8, 3, 3, 8, 1, 3, 5, 4, 4, 3, 3, 5, 4, 10, 5, 4, 10, 5, 3, 4, 3, 1, 3, 1, 8, 4, 1, 3, 4, 4, 1, 4, 1, 10, 3, 1, 8, 3, 10, 10, 1, 3, 10, 1, 1, 3, 8, 3, 4, 1, 1, 5, 1, 10, 3, 3, 3, 1, 4, 3], \"Freq\": [0.8840188980102539, 0.8840188980102539, 0.8840186595916748, 0.868583083152771, 0.868583083152771, 0.9765189290046692, 0.9178433418273926, 0.8840188980102539, 0.9178433418273926, 0.9765190482139587, 0.9765190482139587, 0.408339262008667, 0.408339262008667, 0.9178433418273926, 0.8840188980102539, 1.0390464067459106, 0.9765190482139587, 0.8840188980102539, 0.7737665772438049, 0.868583083152771, 1.0369967222213745, 0.868583083152771, 0.9178433418273926, 0.868583083152771, 1.0390464067459106, 0.9178433418273926, 0.6428123116493225, 0.5310477018356323, 0.868583083152771, 0.9178433418273926, 0.5929109454154968, 1.0369967222213745, 0.9765190482139587, 0.7038158774375916, 0.9178433418273926, 1.0390464067459106, 0.8840188980102539, 0.6694816946983337, 0.868583083152771, 1.0369967222213745, 0.8840188980102539, 0.8840188980102539, 1.0390464067459106, 0.9765190482139587, 0.868583083152771, 0.868583083152771, 0.9765190482139587, 0.8840188980102539, 0.868583083152771, 1.0390464067459106, 0.9178433418273926, 0.9178433418273926, 0.868583083152771, 0.868583083152771, 1.0390464067459106, 0.9178433418273926, 1.0369967222213745, 1.0390464067459106, 0.917843222618103, 1.0369967222213745, 1.0390464067459106, 0.868583083152771, 0.9178433418273926, 0.868583083152771, 0.8840188980102539, 0.868583083152771, 0.8840188980102539, 0.9765190482139587, 0.9178433418273926, 0.8840188980102539, 0.868583083152771, 0.9178433418273926, 0.9178433418273926, 0.8840188980102539, 0.917843222618103, 0.8840186595916748, 1.0369967222213745, 0.868583083152771, 0.8840187788009644, 0.9765190482139587, 0.868583083152771, 1.0369967222213745, 1.0369967222213745, 0.8840188980102539, 0.868583083152771, 1.0369967222213745, 0.8840188980102539, 0.8840186595916748, 0.5942057371139526, 0.5942057371139526, 0.868583083152771, 0.9178433418273926, 0.8840188980102539, 0.8840188980102539, 0.5466882586479187, 0.8840187788009644, 1.0369967222213745, 0.868583083152771, 0.868583083152771, 0.868583083152771, 0.8840186595916748, 0.9178433418273926, 0.868583083152771], \"Term\": [\"112-gbit\", \"3-phase\", \"7-decades\", \"algebra\", \"animated\", \"annotation\", \"application\", \"approximate\", \"augmented\", \"automatic\", \"autostereoscopic\", \"based\", \"based\", \"bases\", \"bicmos\", \"biquad\", \"birds\", \"bounds\", \"cache\", \"camera\", \"codasyl\", \"coding\", \"comments\", \"compact\", \"connectivity\", \"consultable\", \"context\", \"continuous\", \"control\", \"deductive\", \"design\", \"directional\", \"displays\", \"driven\", \"efficient\", \"elliptic\", \"equalizer\", \"error\", \"estimation\", \"external\", \"feasibility\", \"fiber\", \"filters\", \"flatbed\", \"fusion\", \"gesture\", \"gimme\", \"guaranteed\", \"image\", \"internet\", \"jockey\", \"language\", \"level\", \"linear\", \"links\", \"logical\", \"mapping\", \"matter\", \"memory\", \"method\", \"missing\", \"multicast\", \"natural\", \"network\", \"optical\", \"optimization\", \"oscillator\", \"pankow\", \"paper\", \"performance\", \"pixel\", \"practice\", \"processor\", \"queries\", \"reality\", \"receivers\", \"schema\", \"scheme\", \"search\", \"semantic\", \"series\", \"shadow\", \"single\", \"sinusoidal\", \"speed\", \"sphere\", \"streams\", \"study\", \"system\", \"system\", \"technology\", \"theory\", \"translinear\", \"tunable\", \"tuning\", \"tweeted\", \"unfolding\", \"unspecified\", \"users\", \"using\", \"utility\", \"wimax\", \"world\"]}, \"R\": 30, \"lambda.step\": 0.01, \"plot.opts\": {\"xlab\": \"PC1\", \"ylab\": \"PC2\"}, \"topic.order\": [1, 2, 3, 4, 5, 6, 7, 8, 9, 10]};\n",
              "\n",
              "function LDAvis_load_lib(url, callback){\n",
              "  var s = document.createElement('script');\n",
              "  s.src = url;\n",
              "  s.async = true;\n",
              "  s.onreadystatechange = s.onload = callback;\n",
              "  s.onerror = function(){console.warn(\"failed to load library \" + url);};\n",
              "  document.getElementsByTagName(\"head\")[0].appendChild(s);\n",
              "}\n",
              "\n",
              "if(typeof(LDAvis) !== \"undefined\"){\n",
              "   // already loaded: just create the visualization\n",
              "   !function(LDAvis){\n",
              "       new LDAvis(\"#\" + \"ldavis_el1262140394073808472943528287\", ldavis_el1262140394073808472943528287_data);\n",
              "   }(LDAvis);\n",
              "}else if(typeof define === \"function\" && define.amd){\n",
              "   // require.js is available: use it to load d3/LDAvis\n",
              "   require.config({paths: {d3: \"https://cdnjs.cloudflare.com/ajax/libs/d3/3.5.5/d3.min\"}});\n",
              "   require([\"d3\"], function(d3){\n",
              "      window.d3 = d3;\n",
              "      LDAvis_load_lib(\"https://cdn.rawgit.com/bmabey/pyLDAvis/files/ldavis.v1.0.0.js\", function(){\n",
              "        new LDAvis(\"#\" + \"ldavis_el1262140394073808472943528287\", ldavis_el1262140394073808472943528287_data);\n",
              "      });\n",
              "    });\n",
              "}else{\n",
              "    // require.js not available: dynamically load d3 & LDAvis\n",
              "    LDAvis_load_lib(\"https://cdnjs.cloudflare.com/ajax/libs/d3/3.5.5/d3.min.js\", function(){\n",
              "         LDAvis_load_lib(\"https://cdn.rawgit.com/bmabey/pyLDAvis/files/ldavis.v1.0.0.js\", function(){\n",
              "                 new LDAvis(\"#\" + \"ldavis_el1262140394073808472943528287\", ldavis_el1262140394073808472943528287_data);\n",
              "            })\n",
              "         });\n",
              "}\n",
              "</script>"
            ],
            "text/plain": [
              "<IPython.core.display.HTML object>"
            ]
          },
          "metadata": {
            "tags": []
          },
          "execution_count": 37
        }
      ]
    },
    {
      "metadata": {
        "id": "Z2uH7CEfK72u",
        "colab_type": "code",
        "colab": {}
      },
      "cell_type": "code",
      "source": [
        ""
      ],
      "execution_count": 0,
      "outputs": []
    }
  ]
}