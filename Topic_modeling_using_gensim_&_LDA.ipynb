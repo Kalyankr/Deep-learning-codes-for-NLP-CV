{
  "nbformat": 4,
  "nbformat_minor": 0,
  "metadata": {
    "colab": {
      "name": "Topic modeling using gensim & LDA.ipynb",
      "version": "0.3.2",
      "provenance": []
    },
    "kernelspec": {
      "name": "python3",
      "display_name": "Python 3"
    },
    "accelerator": "GPU"
  },
  "cells": [
    {
      "cell_type": "code",
      "metadata": {
        "id": "9BvFIOwCULtf",
        "colab_type": "code",
        "colab": {}
      },
      "source": [
        "import pandas as pd\n",
        "import numpy as np"
      ],
      "execution_count": 0,
      "outputs": []
    },
    {
      "cell_type": "code",
      "metadata": {
        "id": "nmvFk5v3VKfb",
        "colab_type": "code",
        "colab": {}
      },
      "source": [
        "data=pd.read_csv(\"abcnews-date-text.csv\",error_bad_lines=False)"
      ],
      "execution_count": 0,
      "outputs": []
    },
    {
      "cell_type": "code",
      "metadata": {
        "id": "LhK7ndW2VQbX",
        "colab_type": "code",
        "colab": {}
      },
      "source": [
        "print(\"Shape of the Data\",data.shape)\n",
        "data.head()"
      ],
      "execution_count": 0,
      "outputs": []
    },
    {
      "cell_type": "markdown",
      "metadata": {
        "id": "HSgaqG-yVjjE",
        "colab_type": "text"
      },
      "source": [
        "Here we are going to apply LDA to a set of documents and split them into topics. Let’s get started!"
      ]
    },
    {
      "cell_type": "code",
      "metadata": {
        "id": "dqV__xs9X0Iw",
        "colab_type": "code",
        "colab": {}
      },
      "source": [
        "data_text = data[['headline_text']]\n",
        "data_text['index'] = data_text.index\n",
        "documents = data_text"
      ],
      "execution_count": 0,
      "outputs": []
    },
    {
      "cell_type": "markdown",
      "metadata": {
        "id": "WMME48P7V38Z",
        "colab_type": "text"
      },
      "source": [
        "\n",
        "**Now preprocessing:**\n",
        "\n",
        "   Tokenization: Split the text into sentences and the sentences into words. Lowercase the words and remove punctuation.\n",
        "  Words that have fewer than 3 characters are removed.\n",
        "    All stopwords are removed.\n",
        "    Words are lemmatized — words in third person are changed to first person and verbs in past and future tenses are changed into present.\n",
        "    Words are stemmed — words are reduced to their root form.\n",
        "\n"
      ]
    },
    {
      "cell_type": "code",
      "metadata": {
        "id": "J50fAiA0VkK3",
        "colab_type": "code",
        "colab": {}
      },
      "source": [
        "import gensim\n",
        "from gensim.utils import simple_preprocess\n",
        "from gensim.parsing.preprocessing import STOPWORDS\n",
        "from nltk.stem import WordNetLemmatizer, SnowballStemmer\n",
        "from nltk.stem.porter import *\n",
        "from nltk.stem import PorterStemmer\n",
        "import numpy as np\n",
        "np.random.seed(2018)\n",
        "\n",
        "import nltk\n",
        "nltk.download('wordnet')\n",
        "stemmer = SnowballStemmer('english')"
      ],
      "execution_count": 0,
      "outputs": []
    },
    {
      "cell_type": "code",
      "metadata": {
        "id": "KFtAyPpTW3Uw",
        "colab_type": "code",
        "colab": {}
      },
      "source": [
        "#funtion to lammenatize and stem steps\n",
        "\n",
        "def lemmatize_stemming(text):\n",
        "    return stemmer.stem(WordNetLemmatizer().lemmatize(text, pos='v'))\n",
        "\n",
        "def preprocess(text):\n",
        "    result = []\n",
        "    for token in gensim.utils.simple_preprocess(text):\n",
        "        if token not in gensim.parsing.preprocessing.STOPWORDS and len(token) > 3:\n",
        "            result.append(lemmatize_stemming(token))\n",
        "    return result"
      ],
      "execution_count": 0,
      "outputs": []
    },
    {
      "cell_type": "code",
      "metadata": {
        "id": "QtRTQAOzhipc",
        "colab_type": "code",
        "colab": {}
      },
      "source": [
        "sample_doc = documents[documents['index'] == 79].values[0][0]\n",
        "\n",
        "words=[]\n",
        "for word in sample_doc.split(\" \"):\n",
        "  words.append(word)\n",
        "  \n",
        "print(words)\n",
        "print(\"Words after preprocessing\")\n",
        "print(preprocess(sample_doc))"
      ],
      "execution_count": 0,
      "outputs": []
    },
    {
      "cell_type": "code",
      "metadata": {
        "id": "W-oY2hSWYjaw",
        "colab_type": "code",
        "colab": {}
      },
      "source": [
        "processed_data=documents[\"headline_text\"].map(preprocess)\n",
        "processed_data[:9]"
      ],
      "execution_count": 0,
      "outputs": []
    },
    {
      "cell_type": "markdown",
      "metadata": {
        "id": "oaikN0mScfSA",
        "colab_type": "text"
      },
      "source": [
        "**Bag of words on the Dataset**\n",
        "\n",
        "Create a dictionary from ‘processed_docs’ containing the number of times a word appears in the training set."
      ]
    },
    {
      "cell_type": "code",
      "metadata": {
        "id": "eUyQGXD7b12_",
        "colab_type": "code",
        "colab": {}
      },
      "source": [
        "dictionary=gensim.corpora.Dictionary(processed_data)\n",
        "\n",
        "count=0\n",
        "for k, v in dictionary.iteritems():\n",
        "  print(k,v)\n",
        "  count+=1\n",
        "  if count >10:\n",
        "    break\n",
        "  "
      ],
      "execution_count": 0,
      "outputs": []
    },
    {
      "cell_type": "markdown",
      "metadata": {
        "id": "ogMI0iWfeV2L",
        "colab_type": "text"
      },
      "source": [
        "Gensim filter_extremes\n",
        "\n",
        "Filter out tokens that appear in\n",
        "\n",
        "    less than 15 documents (absolute number) or\n",
        "    more than 0.5 documents (fraction of total corpus size, not absolute number).\n",
        "    after the above two steps, keep only the first 100000 most frequent tokens."
      ]
    },
    {
      "cell_type": "code",
      "metadata": {
        "id": "fmzbYXwXdWV2",
        "colab_type": "code",
        "colab": {}
      },
      "source": [
        "dictionary.filter_extremes(no_below=15, no_above=0.5, keep_n=100000)"
      ],
      "execution_count": 0,
      "outputs": []
    },
    {
      "cell_type": "markdown",
      "metadata": {
        "id": "zYvvzqz5eaX1",
        "colab_type": "text"
      },
      "source": [
        "Gensim doc2bow\n",
        "\n",
        "For each document we create a dictionary reporting how many\n",
        "words and how many times those words appear. Save this to ‘bow_corpus’, then check our selected document earlier."
      ]
    },
    {
      "cell_type": "code",
      "metadata": {
        "id": "hdj7DJhYeYpS",
        "colab_type": "code",
        "colab": {}
      },
      "source": [
        "bow_corpus=[dictionary.doc2bow(doc) for doc in processed_data]\n",
        "bow_corpus[79]"
      ],
      "execution_count": 0,
      "outputs": []
    },
    {
      "cell_type": "code",
      "metadata": {
        "id": "ZUgtLSiderxe",
        "colab_type": "code",
        "colab": {}
      },
      "source": [
        "bow_doc_79 = bow_corpus[79]\n",
        "\n",
        "for i in range(len(bow_doc_79)):\n",
        "    print(\"Word {} (\\\"{}\\\") appears {} time.\".format(bow_doc_79[i][0], \n",
        "                                               dictionary[bow_doc_79[i][0]], \n",
        "bow_doc_79[i][1]))"
      ],
      "execution_count": 0,
      "outputs": []
    },
    {
      "cell_type": "markdown",
      "metadata": {
        "id": "NEfGOEzPe_vR",
        "colab_type": "text"
      },
      "source": [
        "TF-IDF\n",
        "\n",
        "Create tf-idf model object using models.TfidfModel on ‘bow_corpus’ and save it to ‘tfidf’, then apply transformation to the entire corpus and call it ‘corpus_tfidf’. Finally we preview TF-IDF scores for our first document."
      ]
    },
    {
      "cell_type": "code",
      "metadata": {
        "id": "90jDfItxe8GG",
        "colab_type": "code",
        "colab": {}
      },
      "source": [
        "from gensim import corpora, models\n",
        "\n",
        "tfidf = models.TfidfModel(bow_corpus)\n",
        "corpus_tfidf = tfidf[bow_corpus]\n",
        "\n",
        "from pprint import pprint\n",
        "\n",
        "for doc in corpus_tfidf:\n",
        "    pprint(doc)\n",
        "    break"
      ],
      "execution_count": 0,
      "outputs": []
    },
    {
      "cell_type": "markdown",
      "metadata": {
        "id": "rYvFxp4AgAYS",
        "colab_type": "text"
      },
      "source": [
        "Running LDA using Bag of Words\n",
        "\n",
        "Train our lda model using gensim.models.LdaMulticore and save it to ‘lda_model’"
      ]
    },
    {
      "cell_type": "code",
      "metadata": {
        "id": "hhBBXT-KfjF7",
        "colab_type": "code",
        "colab": {}
      },
      "source": [
        "lda_model = gensim.models.LdaMulticore(bow_corpus, num_topics=10, id2word=dictionary, passes=2, workers=2)"
      ],
      "execution_count": 0,
      "outputs": []
    },
    {
      "cell_type": "markdown",
      "metadata": {
        "id": "Zj-fgBOAgOSI",
        "colab_type": "text"
      },
      "source": [
        "For each topic, we will explore the words occuring in that topic and its relative weight."
      ]
    },
    {
      "cell_type": "code",
      "metadata": {
        "id": "-_gGhI-LgC5r",
        "colab_type": "code",
        "colab": {}
      },
      "source": [
        "for idx, topic in lda_model.print_topics(-1):\n",
        "    print('Topic: {} \\nWords: {}'.format(idx, topic))"
      ],
      "execution_count": 0,
      "outputs": []
    },
    {
      "cell_type": "markdown",
      "metadata": {
        "id": "f6NmgaFWjm9a",
        "colab_type": "text"
      },
      "source": [
        "Can you distinguish different topics using the words in each topic and their corresponding weights?\n",
        "\n",
        "Running LDA using TF-IDF"
      ]
    },
    {
      "cell_type": "code",
      "metadata": {
        "id": "bQkdPEMVjnr9",
        "colab_type": "code",
        "colab": {}
      },
      "source": [
        "lda_model_tfidf = gensim.models.LdaMulticore(corpus_tfidf, num_topics=10, id2word=dictionary, passes=2, workers=4)\n",
        "\n",
        "for idx, topic in lda_model_tfidf.print_topics(-1):\n",
        "    print('Topic: {} Word: {}'.format(idx, topic))"
      ],
      "execution_count": 0,
      "outputs": []
    },
    {
      "cell_type": "markdown",
      "metadata": {
        "id": "iG_w6jlO4PTm",
        "colab_type": "text"
      },
      "source": [
        "Performance evaluation by classifying sample document using LDA Bag of Words model\n",
        "\n",
        "We will check where our test document would be classified."
      ]
    },
    {
      "cell_type": "code",
      "metadata": {
        "id": "5wdrDRRejw4P",
        "colab_type": "code",
        "colab": {}
      },
      "source": [
        "processed_data[79]"
      ],
      "execution_count": 0,
      "outputs": []
    },
    {
      "cell_type": "code",
      "metadata": {
        "id": "jTy1OGvV4XoU",
        "colab_type": "code",
        "colab": {}
      },
      "source": [
        "for index, score in sorted(lda_model[bow_corpus[79]], key=lambda tup: -1*tup[1]):\n",
        "    print(\"\\nScore: {}\\t \\nTopic: {}\".format(score, lda_model.print_topic(index, 10)))"
      ],
      "execution_count": 0,
      "outputs": []
    },
    {
      "cell_type": "markdown",
      "metadata": {
        "id": "hbVEKMUd4oUg",
        "colab_type": "text"
      },
      "source": [
        "Performance evaluation by classifying sample document using LDA TF-IDF model."
      ]
    },
    {
      "cell_type": "code",
      "metadata": {
        "id": "yUFmTfmZ4dW7",
        "colab_type": "code",
        "colab": {}
      },
      "source": [
        "for index, score in sorted(lda_model_tfidf[bow_corpus[79]], key=lambda tup: -1*tup[1]):\n",
        "    print(\"\\nScore: {}\\t \\nTopic: {}\".format(score, lda_model_tfidf.print_topic(index, 10)))"
      ],
      "execution_count": 0,
      "outputs": []
    },
    {
      "cell_type": "code",
      "metadata": {
        "id": "_fCD1ewg41ra",
        "colab_type": "code",
        "colab": {}
      },
      "source": [
        "unseen_document = 'How a Pentagon deal became an identity crisis for Google'\n",
        "bow_vector = dictionary.doc2bow(preprocess(unseen_document))\n",
        "\n",
        "for index, score in sorted(lda_model[bow_vector], key=lambda tup: -1*tup[1]):\n",
        "    print(\"Score: {}\\t Topic: {}\".format(score, lda_model.print_topic(index, 5)))"
      ],
      "execution_count": 0,
      "outputs": []
    }
  ]
}